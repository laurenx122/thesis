{
 "cells": [
  {
   "cell_type": "code",
   "execution_count": 99,
   "metadata": {},
   "outputs": [],
   "source": [
    "import csv\n",
    "\n",
    "import numpy as np\n",
    "import tensorflow as tf\n",
    "from sklearn.model_selection import train_test_split\n",
    "\n",
    "RANDOM_SEED = 42"
   ]
  },
  {
   "cell_type": "markdown",
   "metadata": {},
   "source": [
    "# 各パス指定"
   ]
  },
  {
   "cell_type": "code",
   "execution_count": 100,
   "metadata": {},
   "outputs": [],
   "source": [
    "dataset = 'model/keypoint_classifier/keypoint.csv'\n",
    "# model_save_path = 'model/keypoint_classifier/keypoint_classifier.hdf5'\n",
    "model_save_path = 'model/keypoint_classifier/keypoint_classifier.keras'"
   ]
  },
  {
   "cell_type": "markdown",
   "metadata": {},
   "source": [
    "# 分類数設定"
   ]
  },
  {
   "cell_type": "code",
   "execution_count": 101,
   "metadata": {},
   "outputs": [],
   "source": [
    "NUM_CLASSES = 6"
   ]
  },
  {
   "cell_type": "markdown",
   "metadata": {},
   "source": [
    "# 学習データ読み込み"
   ]
  },
  {
   "cell_type": "code",
   "execution_count": 102,
   "metadata": {},
   "outputs": [],
   "source": [
    "X_dataset = np.loadtxt(dataset, delimiter=',', dtype='float32', usecols=list(range(1, (21 * 2) + 1)))"
   ]
  },
  {
   "cell_type": "code",
   "execution_count": 103,
   "metadata": {},
   "outputs": [],
   "source": [
    "y_dataset = np.loadtxt(dataset, delimiter=',', dtype='int32', usecols=(0))"
   ]
  },
  {
   "cell_type": "code",
   "execution_count": 104,
   "metadata": {},
   "outputs": [],
   "source": [
    "X_train, X_test, y_train, y_test = train_test_split(X_dataset, y_dataset, train_size=0.75, random_state=RANDOM_SEED)"
   ]
  },
  {
   "cell_type": "markdown",
   "metadata": {},
   "source": [
    "# モデル構築"
   ]
  },
  {
   "cell_type": "code",
   "execution_count": 105,
   "metadata": {},
   "outputs": [],
   "source": [
    "model = tf.keras.models.Sequential([\n",
    "    tf.keras.layers.Input((21 * 2, )),\n",
    "    tf.keras.layers.Dropout(0.2),\n",
    "    tf.keras.layers.Dense(20, activation='relu'),\n",
    "    tf.keras.layers.Dropout(0.4),\n",
    "    tf.keras.layers.Dense(10, activation='relu'),\n",
    "    tf.keras.layers.Dense(NUM_CLASSES, activation='softmax')\n",
    "])"
   ]
  },
  {
   "cell_type": "code",
   "execution_count": 106,
   "metadata": {},
   "outputs": [
    {
     "data": {
      "text/html": [
       "<pre style=\"white-space:pre;overflow-x:auto;line-height:normal;font-family:Menlo,'DejaVu Sans Mono',consolas,'Courier New',monospace\"><span style=\"font-weight: bold\">Model: \"sequential_5\"</span>\n",
       "</pre>\n"
      ],
      "text/plain": [
       "\u001b[1mModel: \"sequential_5\"\u001b[0m\n"
      ]
     },
     "metadata": {},
     "output_type": "display_data"
    },
    {
     "data": {
      "text/html": [
       "<pre style=\"white-space:pre;overflow-x:auto;line-height:normal;font-family:Menlo,'DejaVu Sans Mono',consolas,'Courier New',monospace\">┏━━━━━━━━━━━━━━━━━━━━━━━━━━━━━━━━━━━━━━┳━━━━━━━━━━━━━━━━━━━━━━━━━━━━━┳━━━━━━━━━━━━━━━━━┓\n",
       "┃<span style=\"font-weight: bold\"> Layer (type)                         </span>┃<span style=\"font-weight: bold\"> Output Shape                </span>┃<span style=\"font-weight: bold\">         Param # </span>┃\n",
       "┡━━━━━━━━━━━━━━━━━━━━━━━━━━━━━━━━━━━━━━╇━━━━━━━━━━━━━━━━━━━━━━━━━━━━━╇━━━━━━━━━━━━━━━━━┩\n",
       "│ dropout_10 (<span style=\"color: #0087ff; text-decoration-color: #0087ff\">Dropout</span>)                 │ (<span style=\"color: #00d7ff; text-decoration-color: #00d7ff\">None</span>, <span style=\"color: #00af00; text-decoration-color: #00af00\">42</span>)                  │               <span style=\"color: #00af00; text-decoration-color: #00af00\">0</span> │\n",
       "├──────────────────────────────────────┼─────────────────────────────┼─────────────────┤\n",
       "│ dense_15 (<span style=\"color: #0087ff; text-decoration-color: #0087ff\">Dense</span>)                     │ (<span style=\"color: #00d7ff; text-decoration-color: #00d7ff\">None</span>, <span style=\"color: #00af00; text-decoration-color: #00af00\">20</span>)                  │             <span style=\"color: #00af00; text-decoration-color: #00af00\">860</span> │\n",
       "├──────────────────────────────────────┼─────────────────────────────┼─────────────────┤\n",
       "│ dropout_11 (<span style=\"color: #0087ff; text-decoration-color: #0087ff\">Dropout</span>)                 │ (<span style=\"color: #00d7ff; text-decoration-color: #00d7ff\">None</span>, <span style=\"color: #00af00; text-decoration-color: #00af00\">20</span>)                  │               <span style=\"color: #00af00; text-decoration-color: #00af00\">0</span> │\n",
       "├──────────────────────────────────────┼─────────────────────────────┼─────────────────┤\n",
       "│ dense_16 (<span style=\"color: #0087ff; text-decoration-color: #0087ff\">Dense</span>)                     │ (<span style=\"color: #00d7ff; text-decoration-color: #00d7ff\">None</span>, <span style=\"color: #00af00; text-decoration-color: #00af00\">10</span>)                  │             <span style=\"color: #00af00; text-decoration-color: #00af00\">210</span> │\n",
       "├──────────────────────────────────────┼─────────────────────────────┼─────────────────┤\n",
       "│ dense_17 (<span style=\"color: #0087ff; text-decoration-color: #0087ff\">Dense</span>)                     │ (<span style=\"color: #00d7ff; text-decoration-color: #00d7ff\">None</span>, <span style=\"color: #00af00; text-decoration-color: #00af00\">6</span>)                   │              <span style=\"color: #00af00; text-decoration-color: #00af00\">66</span> │\n",
       "└──────────────────────────────────────┴─────────────────────────────┴─────────────────┘\n",
       "</pre>\n"
      ],
      "text/plain": [
       "┏━━━━━━━━━━━━━━━━━━━━━━━━━━━━━━━━━━━━━━┳━━━━━━━━━━━━━━━━━━━━━━━━━━━━━┳━━━━━━━━━━━━━━━━━┓\n",
       "┃\u001b[1m \u001b[0m\u001b[1mLayer (type)                        \u001b[0m\u001b[1m \u001b[0m┃\u001b[1m \u001b[0m\u001b[1mOutput Shape               \u001b[0m\u001b[1m \u001b[0m┃\u001b[1m \u001b[0m\u001b[1m        Param #\u001b[0m\u001b[1m \u001b[0m┃\n",
       "┡━━━━━━━━━━━━━━━━━━━━━━━━━━━━━━━━━━━━━━╇━━━━━━━━━━━━━━━━━━━━━━━━━━━━━╇━━━━━━━━━━━━━━━━━┩\n",
       "│ dropout_10 (\u001b[38;5;33mDropout\u001b[0m)                 │ (\u001b[38;5;45mNone\u001b[0m, \u001b[38;5;34m42\u001b[0m)                  │               \u001b[38;5;34m0\u001b[0m │\n",
       "├──────────────────────────────────────┼─────────────────────────────┼─────────────────┤\n",
       "│ dense_15 (\u001b[38;5;33mDense\u001b[0m)                     │ (\u001b[38;5;45mNone\u001b[0m, \u001b[38;5;34m20\u001b[0m)                  │             \u001b[38;5;34m860\u001b[0m │\n",
       "├──────────────────────────────────────┼─────────────────────────────┼─────────────────┤\n",
       "│ dropout_11 (\u001b[38;5;33mDropout\u001b[0m)                 │ (\u001b[38;5;45mNone\u001b[0m, \u001b[38;5;34m20\u001b[0m)                  │               \u001b[38;5;34m0\u001b[0m │\n",
       "├──────────────────────────────────────┼─────────────────────────────┼─────────────────┤\n",
       "│ dense_16 (\u001b[38;5;33mDense\u001b[0m)                     │ (\u001b[38;5;45mNone\u001b[0m, \u001b[38;5;34m10\u001b[0m)                  │             \u001b[38;5;34m210\u001b[0m │\n",
       "├──────────────────────────────────────┼─────────────────────────────┼─────────────────┤\n",
       "│ dense_17 (\u001b[38;5;33mDense\u001b[0m)                     │ (\u001b[38;5;45mNone\u001b[0m, \u001b[38;5;34m6\u001b[0m)                   │              \u001b[38;5;34m66\u001b[0m │\n",
       "└──────────────────────────────────────┴─────────────────────────────┴─────────────────┘\n"
      ]
     },
     "metadata": {},
     "output_type": "display_data"
    },
    {
     "data": {
      "text/html": [
       "<pre style=\"white-space:pre;overflow-x:auto;line-height:normal;font-family:Menlo,'DejaVu Sans Mono',consolas,'Courier New',monospace\"><span style=\"font-weight: bold\"> Total params: </span><span style=\"color: #00af00; text-decoration-color: #00af00\">1,136</span> (4.44 KB)\n",
       "</pre>\n"
      ],
      "text/plain": [
       "\u001b[1m Total params: \u001b[0m\u001b[38;5;34m1,136\u001b[0m (4.44 KB)\n"
      ]
     },
     "metadata": {},
     "output_type": "display_data"
    },
    {
     "data": {
      "text/html": [
       "<pre style=\"white-space:pre;overflow-x:auto;line-height:normal;font-family:Menlo,'DejaVu Sans Mono',consolas,'Courier New',monospace\"><span style=\"font-weight: bold\"> Trainable params: </span><span style=\"color: #00af00; text-decoration-color: #00af00\">1,136</span> (4.44 KB)\n",
       "</pre>\n"
      ],
      "text/plain": [
       "\u001b[1m Trainable params: \u001b[0m\u001b[38;5;34m1,136\u001b[0m (4.44 KB)\n"
      ]
     },
     "metadata": {},
     "output_type": "display_data"
    },
    {
     "data": {
      "text/html": [
       "<pre style=\"white-space:pre;overflow-x:auto;line-height:normal;font-family:Menlo,'DejaVu Sans Mono',consolas,'Courier New',monospace\"><span style=\"font-weight: bold\"> Non-trainable params: </span><span style=\"color: #00af00; text-decoration-color: #00af00\">0</span> (0.00 B)\n",
       "</pre>\n"
      ],
      "text/plain": [
       "\u001b[1m Non-trainable params: \u001b[0m\u001b[38;5;34m0\u001b[0m (0.00 B)\n"
      ]
     },
     "metadata": {},
     "output_type": "display_data"
    }
   ],
   "source": [
    "model.summary()  # tf.keras.utils.plot_model(model, show_shapes=True)"
   ]
  },
  {
   "cell_type": "code",
   "execution_count": 107,
   "metadata": {},
   "outputs": [],
   "source": [
    "# モデルチェックポイントのコールバック\n",
    "cp_callback = tf.keras.callbacks.ModelCheckpoint(\n",
    "    model_save_path, verbose=1, save_weights_only=False, save_best_only=True)\n",
    "# 早期打ち切り用コールバック\n",
    "# es_callback = tf.keras.callbacks.EarlyStopping(patience=20, verbose=1)\n",
    "es_callback = tf.keras.callbacks.EarlyStopping(patience=20, verbose=1)"
   ]
  },
  {
   "cell_type": "code",
   "execution_count": 108,
   "metadata": {},
   "outputs": [],
   "source": [
    "# モデルコンパイル\n",
    "model.compile(\n",
    "    optimizer='adam',\n",
    "    loss='sparse_categorical_crossentropy',\n",
    "    metrics=['accuracy']\n",
    ")"
   ]
  },
  {
   "cell_type": "markdown",
   "metadata": {},
   "source": [
    "# モデル訓練"
   ]
  },
  {
   "cell_type": "code",
   "execution_count": 109,
   "metadata": {
    "scrolled": true
   },
   "outputs": [
    {
     "name": "stdout",
     "output_type": "stream",
     "text": [
      "Epoch 1/1000\n",
      "\u001b[1m1/4\u001b[0m \u001b[32m━━━━━\u001b[0m\u001b[37m━━━━━━━━━━━━━━━\u001b[0m \u001b[1m4s\u001b[0m 2s/step - accuracy: 0.0078 - loss: 2.4984\n",
      "Epoch 1: val_loss improved from None to 2.19969, saving model to model/keypoint_classifier/keypoint_classifier.keras\n",
      "\u001b[1m4/4\u001b[0m \u001b[32m━━━━━━━━━━━━━━━━━━━━\u001b[0m\u001b[37m\u001b[0m \u001b[1m2s\u001b[0m 158ms/step - accuracy: 0.0225 - loss: 2.4440 - val_accuracy: 0.0203 - val_loss: 2.1997\n",
      "Epoch 2/1000\n",
      "\u001b[1m1/4\u001b[0m \u001b[32m━━━━━\u001b[0m\u001b[37m━━━━━━━━━━━━━━━\u001b[0m \u001b[1m0s\u001b[0m 154ms/step - accuracy: 0.0391 - loss: 2.2933\n",
      "Epoch 2: val_loss improved from 2.19969 to 2.06483, saving model to model/keypoint_classifier/keypoint_classifier.keras\n",
      "\u001b[1m4/4\u001b[0m \u001b[32m━━━━━━━━━━━━━━━━━━━━\u001b[0m\u001b[37m\u001b[0m \u001b[1m0s\u001b[0m 76ms/step - accuracy: 0.0315 - loss: 2.2776 - val_accuracy: 0.0203 - val_loss: 2.0648\n",
      "Epoch 3/1000\n",
      "\u001b[1m1/4\u001b[0m \u001b[32m━━━━━\u001b[0m\u001b[37m━━━━━━━━━━━━━━━\u001b[0m \u001b[1m0s\u001b[0m 112ms/step - accuracy: 0.0469 - loss: 2.2367\n",
      "Epoch 3: val_loss improved from 2.06483 to 1.94524, saving model to model/keypoint_classifier/keypoint_classifier.keras\n",
      "\u001b[1m4/4\u001b[0m \u001b[32m━━━━━━━━━━━━━━━━━━━━\u001b[0m\u001b[37m\u001b[0m \u001b[1m0s\u001b[0m 64ms/step - accuracy: 0.0360 - loss: 2.1498 - val_accuracy: 0.0203 - val_loss: 1.9452\n",
      "Epoch 4/1000\n",
      "\u001b[1m1/4\u001b[0m \u001b[32m━━━━━\u001b[0m\u001b[37m━━━━━━━━━━━━━━━\u001b[0m \u001b[1m0s\u001b[0m 96ms/step - accuracy: 0.0703 - loss: 2.0272\n",
      "Epoch 4: val_loss improved from 1.94524 to 1.83256, saving model to model/keypoint_classifier/keypoint_classifier.keras\n",
      "\u001b[1m4/4\u001b[0m \u001b[32m━━━━━━━━━━━━━━━━━━━━\u001b[0m\u001b[37m\u001b[0m \u001b[1m0s\u001b[0m 80ms/step - accuracy: 0.0586 - loss: 2.0212 - val_accuracy: 0.0203 - val_loss: 1.8326\n",
      "Epoch 5/1000\n",
      "\u001b[1m1/4\u001b[0m \u001b[32m━━━━━\u001b[0m\u001b[37m━━━━━━━━━━━━━━━\u001b[0m \u001b[1m0s\u001b[0m 102ms/step - accuracy: 0.0781 - loss: 1.9170\n",
      "Epoch 5: val_loss improved from 1.83256 to 1.72454, saving model to model/keypoint_classifier/keypoint_classifier.keras\n",
      "\u001b[1m4/4\u001b[0m \u001b[32m━━━━━━━━━━━━━━━━━━━━\u001b[0m\u001b[37m\u001b[0m \u001b[1m0s\u001b[0m 68ms/step - accuracy: 0.0721 - loss: 1.9059 - val_accuracy: 0.0203 - val_loss: 1.7245\n",
      "Epoch 6/1000\n",
      "\u001b[1m1/4\u001b[0m \u001b[32m━━━━━\u001b[0m\u001b[37m━━━━━━━━━━━━━━━\u001b[0m \u001b[1m0s\u001b[0m 112ms/step - accuracy: 0.1328 - loss: 1.8465\n",
      "Epoch 6: val_loss improved from 1.72454 to 1.63469, saving model to model/keypoint_classifier/keypoint_classifier.keras\n",
      "\u001b[1m4/4\u001b[0m \u001b[32m━━━━━━━━━━━━━━━━━━━━\u001b[0m\u001b[37m\u001b[0m \u001b[1m0s\u001b[0m 81ms/step - accuracy: 0.1261 - loss: 1.8151 - val_accuracy: 0.0270 - val_loss: 1.6347\n",
      "Epoch 7/1000\n",
      "\u001b[1m1/4\u001b[0m \u001b[32m━━━━━\u001b[0m\u001b[37m━━━━━━━━━━━━━━━\u001b[0m \u001b[1m0s\u001b[0m 83ms/step - accuracy: 0.1641 - loss: 1.7237\n",
      "Epoch 7: val_loss improved from 1.63469 to 1.54924, saving model to model/keypoint_classifier/keypoint_classifier.keras\n",
      "\u001b[1m4/4\u001b[0m \u001b[32m━━━━━━━━━━━━━━━━━━━━\u001b[0m\u001b[37m\u001b[0m \u001b[1m0s\u001b[0m 72ms/step - accuracy: 0.1577 - loss: 1.7233 - val_accuracy: 0.1757 - val_loss: 1.5492\n",
      "Epoch 8/1000\n",
      "\u001b[1m1/4\u001b[0m \u001b[32m━━━━━\u001b[0m\u001b[37m━━━━━━━━━━━━━━━\u001b[0m \u001b[1m0s\u001b[0m 95ms/step - accuracy: 0.2188 - loss: 1.6643\n",
      "Epoch 8: val_loss improved from 1.54924 to 1.46043, saving model to model/keypoint_classifier/keypoint_classifier.keras\n",
      "\u001b[1m4/4\u001b[0m \u001b[32m━━━━━━━━━━━━━━━━━━━━\u001b[0m\u001b[37m\u001b[0m \u001b[1m0s\u001b[0m 78ms/step - accuracy: 0.2545 - loss: 1.6026 - val_accuracy: 0.3919 - val_loss: 1.4604\n",
      "Epoch 9/1000\n",
      "\u001b[1m1/4\u001b[0m \u001b[32m━━━━━\u001b[0m\u001b[37m━━━━━━━━━━━━━━━\u001b[0m \u001b[1m0s\u001b[0m 100ms/step - accuracy: 0.3281 - loss: 1.5484\n",
      "Epoch 9: val_loss improved from 1.46043 to 1.37217, saving model to model/keypoint_classifier/keypoint_classifier.keras\n",
      "\u001b[1m4/4\u001b[0m \u001b[32m━━━━━━━━━━━━━━━━━━━━\u001b[0m\u001b[37m\u001b[0m \u001b[1m0s\u001b[0m 73ms/step - accuracy: 0.3018 - loss: 1.5421 - val_accuracy: 0.5541 - val_loss: 1.3722\n",
      "Epoch 10/1000\n",
      "\u001b[1m1/4\u001b[0m \u001b[32m━━━━━\u001b[0m\u001b[37m━━━━━━━━━━━━━━━\u001b[0m \u001b[1m0s\u001b[0m 119ms/step - accuracy: 0.3750 - loss: 1.4804\n",
      "Epoch 10: val_loss improved from 1.37217 to 1.28574, saving model to model/keypoint_classifier/keypoint_classifier.keras\n",
      "\u001b[1m4/4\u001b[0m \u001b[32m━━━━━━━━━━━━━━━━━━━━\u001b[0m\u001b[37m\u001b[0m \u001b[1m0s\u001b[0m 78ms/step - accuracy: 0.4032 - loss: 1.4415 - val_accuracy: 0.7162 - val_loss: 1.2857\n",
      "Epoch 11/1000\n",
      "\u001b[1m1/4\u001b[0m \u001b[32m━━━━━\u001b[0m\u001b[37m━━━━━━━━━━━━━━━\u001b[0m \u001b[1m0s\u001b[0m 96ms/step - accuracy: 0.4688 - loss: 1.4035\n",
      "Epoch 11: val_loss improved from 1.28574 to 1.19512, saving model to model/keypoint_classifier/keypoint_classifier.keras\n",
      "\u001b[1m4/4\u001b[0m \u001b[32m━━━━━━━━━━━━━━━━━━━━\u001b[0m\u001b[37m\u001b[0m \u001b[1m0s\u001b[0m 70ms/step - accuracy: 0.4977 - loss: 1.3567 - val_accuracy: 0.8176 - val_loss: 1.1951\n",
      "Epoch 12/1000\n",
      "\u001b[1m1/4\u001b[0m \u001b[32m━━━━━\u001b[0m\u001b[37m━━━━━━━━━━━━━━━\u001b[0m \u001b[1m0s\u001b[0m 101ms/step - accuracy: 0.6172 - loss: 1.2742\n",
      "Epoch 12: val_loss improved from 1.19512 to 1.10039, saving model to model/keypoint_classifier/keypoint_classifier.keras\n",
      "\u001b[1m4/4\u001b[0m \u001b[32m━━━━━━━━━━━━━━━━━━━━\u001b[0m\u001b[37m\u001b[0m \u001b[1m0s\u001b[0m 73ms/step - accuracy: 0.6036 - loss: 1.2510 - val_accuracy: 0.8919 - val_loss: 1.1004\n",
      "Epoch 13/1000\n",
      "\u001b[1m1/4\u001b[0m \u001b[32m━━━━━\u001b[0m\u001b[37m━━━━━━━━━━━━━━━\u001b[0m \u001b[1m0s\u001b[0m 122ms/step - accuracy: 0.5938 - loss: 1.2326\n",
      "Epoch 13: val_loss improved from 1.10039 to 1.00962, saving model to model/keypoint_classifier/keypoint_classifier.keras\n",
      "\u001b[1m4/4\u001b[0m \u001b[32m━━━━━━━━━━━━━━━━━━━━\u001b[0m\u001b[37m\u001b[0m \u001b[1m0s\u001b[0m 72ms/step - accuracy: 0.6464 - loss: 1.1868 - val_accuracy: 0.8919 - val_loss: 1.0096\n",
      "Epoch 14/1000\n",
      "\u001b[1m1/4\u001b[0m \u001b[32m━━━━━\u001b[0m\u001b[37m━━━━━━━━━━━━━━━\u001b[0m \u001b[1m0s\u001b[0m 112ms/step - accuracy: 0.6797 - loss: 1.0761\n",
      "Epoch 14: val_loss improved from 1.00962 to 0.92011, saving model to model/keypoint_classifier/keypoint_classifier.keras\n",
      "\u001b[1m4/4\u001b[0m \u001b[32m━━━━━━━━━━━━━━━━━━━━\u001b[0m\u001b[37m\u001b[0m \u001b[1m0s\u001b[0m 79ms/step - accuracy: 0.7252 - loss: 1.0800 - val_accuracy: 0.8919 - val_loss: 0.9201\n",
      "Epoch 15/1000\n",
      "\u001b[1m1/4\u001b[0m \u001b[32m━━━━━\u001b[0m\u001b[37m━━━━━━━━━━━━━━━\u001b[0m \u001b[1m0s\u001b[0m 82ms/step - accuracy: 0.8203 - loss: 0.9457\n",
      "Epoch 15: val_loss improved from 0.92011 to 0.83501, saving model to model/keypoint_classifier/keypoint_classifier.keras\n",
      "\u001b[1m4/4\u001b[0m \u001b[32m━━━━━━━━━━━━━━━━━━━━\u001b[0m\u001b[37m\u001b[0m \u001b[1m0s\u001b[0m 80ms/step - accuracy: 0.7973 - loss: 0.9646 - val_accuracy: 0.8919 - val_loss: 0.8350\n",
      "Epoch 16/1000\n",
      "\u001b[1m1/4\u001b[0m \u001b[32m━━━━━\u001b[0m\u001b[37m━━━━━━━━━━━━━━━\u001b[0m \u001b[1m0s\u001b[0m 95ms/step - accuracy: 0.7422 - loss: 0.9665\n",
      "Epoch 16: val_loss improved from 0.83501 to 0.75718, saving model to model/keypoint_classifier/keypoint_classifier.keras\n",
      "\u001b[1m4/4\u001b[0m \u001b[32m━━━━━━━━━━━━━━━━━━━━\u001b[0m\u001b[37m\u001b[0m \u001b[1m0s\u001b[0m 74ms/step - accuracy: 0.8086 - loss: 0.9131 - val_accuracy: 0.8919 - val_loss: 0.7572\n",
      "Epoch 17/1000\n",
      "\u001b[1m1/4\u001b[0m \u001b[32m━━━━━\u001b[0m\u001b[37m━━━━━━━━━━━━━━━\u001b[0m \u001b[1m0s\u001b[0m 96ms/step - accuracy: 0.8516 - loss: 0.8367\n",
      "Epoch 17: val_loss improved from 0.75718 to 0.68676, saving model to model/keypoint_classifier/keypoint_classifier.keras\n",
      "\u001b[1m4/4\u001b[0m \u001b[32m━━━━━━━━━━━━━━━━━━━━\u001b[0m\u001b[37m\u001b[0m \u001b[1m0s\u001b[0m 93ms/step - accuracy: 0.8423 - loss: 0.8239 - val_accuracy: 0.8919 - val_loss: 0.6868\n",
      "Epoch 18/1000\n",
      "\u001b[1m1/4\u001b[0m \u001b[32m━━━━━\u001b[0m\u001b[37m━━━━━━━━━━━━━━━\u001b[0m \u001b[1m1s\u001b[0m 373ms/step - accuracy: 0.8203 - loss: 0.8037\n",
      "Epoch 18: val_loss improved from 0.68676 to 0.62493, saving model to model/keypoint_classifier/keypoint_classifier.keras\n",
      "\u001b[1m4/4\u001b[0m \u001b[32m━━━━━━━━━━━━━━━━━━━━\u001b[0m\u001b[37m\u001b[0m \u001b[1m1s\u001b[0m 79ms/step - accuracy: 0.8536 - loss: 0.7502 - val_accuracy: 0.8919 - val_loss: 0.6249\n",
      "Epoch 19/1000\n",
      "\u001b[1m1/4\u001b[0m \u001b[32m━━━━━\u001b[0m\u001b[37m━━━━━━━━━━━━━━━\u001b[0m \u001b[1m0s\u001b[0m 96ms/step - accuracy: 0.8828 - loss: 0.6593\n",
      "Epoch 19: val_loss improved from 0.62493 to 0.57129, saving model to model/keypoint_classifier/keypoint_classifier.keras\n",
      "\u001b[1m4/4\u001b[0m \u001b[32m━━━━━━━━━━━━━━━━━━━━\u001b[0m\u001b[37m\u001b[0m \u001b[1m0s\u001b[0m 78ms/step - accuracy: 0.8671 - loss: 0.6953 - val_accuracy: 0.8919 - val_loss: 0.5713\n",
      "Epoch 20/1000\n",
      "\u001b[1m1/4\u001b[0m \u001b[32m━━━━━\u001b[0m\u001b[37m━━━━━━━━━━━━━━━\u001b[0m \u001b[1m0s\u001b[0m 86ms/step - accuracy: 0.9062 - loss: 0.6401\n",
      "Epoch 20: val_loss improved from 0.57129 to 0.52648, saving model to model/keypoint_classifier/keypoint_classifier.keras\n",
      "\u001b[1m4/4\u001b[0m \u001b[32m━━━━━━━━━━━━━━━━━━━━\u001b[0m\u001b[37m\u001b[0m \u001b[1m0s\u001b[0m 59ms/step - accuracy: 0.8761 - loss: 0.6472 - val_accuracy: 0.8919 - val_loss: 0.5265\n",
      "Epoch 21/1000\n",
      "\u001b[1m1/4\u001b[0m \u001b[32m━━━━━\u001b[0m\u001b[37m━━━━━━━━━━━━━━━\u001b[0m \u001b[1m0s\u001b[0m 139ms/step - accuracy: 0.8984 - loss: 0.5866\n",
      "Epoch 21: val_loss improved from 0.52648 to 0.49038, saving model to model/keypoint_classifier/keypoint_classifier.keras\n",
      "\u001b[1m4/4\u001b[0m \u001b[32m━━━━━━━━━━━━━━━━━━━━\u001b[0m\u001b[37m\u001b[0m \u001b[1m0s\u001b[0m 78ms/step - accuracy: 0.8761 - loss: 0.5983 - val_accuracy: 0.8919 - val_loss: 0.4904\n",
      "Epoch 22/1000\n",
      "\u001b[1m1/4\u001b[0m \u001b[32m━━━━━\u001b[0m\u001b[37m━━━━━━━━━━━━━━━\u001b[0m \u001b[1m0s\u001b[0m 95ms/step - accuracy: 0.8984 - loss: 0.5030\n",
      "Epoch 22: val_loss improved from 0.49038 to 0.46132, saving model to model/keypoint_classifier/keypoint_classifier.keras\n",
      "\u001b[1m4/4\u001b[0m \u001b[32m━━━━━━━━━━━━━━━━━━━━\u001b[0m\u001b[37m\u001b[0m \u001b[1m0s\u001b[0m 77ms/step - accuracy: 0.8694 - loss: 0.5617 - val_accuracy: 0.8919 - val_loss: 0.4613\n",
      "Epoch 23/1000\n",
      "\u001b[1m1/4\u001b[0m \u001b[32m━━━━━\u001b[0m\u001b[37m━━━━━━━━━━━━━━━\u001b[0m \u001b[1m0s\u001b[0m 95ms/step - accuracy: 0.8359 - loss: 0.5846\n",
      "Epoch 23: val_loss improved from 0.46132 to 0.43805, saving model to model/keypoint_classifier/keypoint_classifier.keras\n",
      "\u001b[1m4/4\u001b[0m \u001b[32m━━━━━━━━━━━━━━━━━━━━\u001b[0m\u001b[37m\u001b[0m \u001b[1m0s\u001b[0m 84ms/step - accuracy: 0.8739 - loss: 0.5180 - val_accuracy: 0.8919 - val_loss: 0.4380\n",
      "Epoch 24/1000\n",
      "\u001b[1m1/4\u001b[0m \u001b[32m━━━━━\u001b[0m\u001b[37m━━━━━━━━━━━━━━━\u001b[0m \u001b[1m0s\u001b[0m 54ms/step - accuracy: 0.8906 - loss: 0.5305\n",
      "Epoch 24: val_loss improved from 0.43805 to 0.41958, saving model to model/keypoint_classifier/keypoint_classifier.keras\n",
      "\u001b[1m4/4\u001b[0m \u001b[32m━━━━━━━━━━━━━━━━━━━━\u001b[0m\u001b[37m\u001b[0m \u001b[1m0s\u001b[0m 59ms/step - accuracy: 0.8784 - loss: 0.4958 - val_accuracy: 0.8919 - val_loss: 0.4196\n",
      "Epoch 25/1000\n",
      "\u001b[1m1/4\u001b[0m \u001b[32m━━━━━\u001b[0m\u001b[37m━━━━━━━━━━━━━━━\u001b[0m \u001b[1m0s\u001b[0m 143ms/step - accuracy: 0.8750 - loss: 0.4729\n",
      "Epoch 25: val_loss improved from 0.41958 to 0.40564, saving model to model/keypoint_classifier/keypoint_classifier.keras\n",
      "\u001b[1m4/4\u001b[0m \u001b[32m━━━━━━━━━━━━━━━━━━━━\u001b[0m\u001b[37m\u001b[0m \u001b[1m0s\u001b[0m 63ms/step - accuracy: 0.8784 - loss: 0.4629 - val_accuracy: 0.8919 - val_loss: 0.4056\n",
      "Epoch 26/1000\n",
      "\u001b[1m1/4\u001b[0m \u001b[32m━━━━━\u001b[0m\u001b[37m━━━━━━━━━━━━━━━\u001b[0m \u001b[1m0s\u001b[0m 50ms/step - accuracy: 0.8828 - loss: 0.4865\n",
      "Epoch 26: val_loss improved from 0.40564 to 0.39519, saving model to model/keypoint_classifier/keypoint_classifier.keras\n",
      "\u001b[1m4/4\u001b[0m \u001b[32m━━━━━━━━━━━━━━━━━━━━\u001b[0m\u001b[37m\u001b[0m \u001b[1m0s\u001b[0m 67ms/step - accuracy: 0.8784 - loss: 0.4551 - val_accuracy: 0.8919 - val_loss: 0.3952\n",
      "Epoch 27/1000\n",
      "\u001b[1m1/4\u001b[0m \u001b[32m━━━━━\u001b[0m\u001b[37m━━━━━━━━━━━━━━━\u001b[0m \u001b[1m0s\u001b[0m 115ms/step - accuracy: 0.8672 - loss: 0.5024\n",
      "Epoch 27: val_loss improved from 0.39519 to 0.38752, saving model to model/keypoint_classifier/keypoint_classifier.keras\n",
      "\u001b[1m4/4\u001b[0m \u001b[32m━━━━━━━━━━━━━━━━━━━━\u001b[0m\u001b[37m\u001b[0m \u001b[1m0s\u001b[0m 67ms/step - accuracy: 0.8806 - loss: 0.4332 - val_accuracy: 0.8919 - val_loss: 0.3875\n",
      "Epoch 28/1000\n",
      "\u001b[1m1/4\u001b[0m \u001b[32m━━━━━\u001b[0m\u001b[37m━━━━━━━━━━━━━━━\u001b[0m \u001b[1m0s\u001b[0m 127ms/step - accuracy: 0.8672 - loss: 0.4815\n",
      "Epoch 28: val_loss improved from 0.38752 to 0.38186, saving model to model/keypoint_classifier/keypoint_classifier.keras\n",
      "\u001b[1m4/4\u001b[0m \u001b[32m━━━━━━━━━━━━━━━━━━━━\u001b[0m\u001b[37m\u001b[0m \u001b[1m0s\u001b[0m 70ms/step - accuracy: 0.8829 - loss: 0.4095 - val_accuracy: 0.8919 - val_loss: 0.3819\n",
      "Epoch 29/1000\n",
      "\u001b[1m1/4\u001b[0m \u001b[32m━━━━━\u001b[0m\u001b[37m━━━━━━━━━━━━━━━\u001b[0m \u001b[1m0s\u001b[0m 58ms/step - accuracy: 0.8594 - loss: 0.4474\n",
      "Epoch 29: val_loss improved from 0.38186 to 0.37786, saving model to model/keypoint_classifier/keypoint_classifier.keras\n",
      "\u001b[1m4/4\u001b[0m \u001b[32m━━━━━━━━━━━━━━━━━━━━\u001b[0m\u001b[37m\u001b[0m \u001b[1m0s\u001b[0m 68ms/step - accuracy: 0.8829 - loss: 0.4055 - val_accuracy: 0.8919 - val_loss: 0.3779\n",
      "Epoch 30/1000\n",
      "\u001b[1m1/4\u001b[0m \u001b[32m━━━━━\u001b[0m\u001b[37m━━━━━━━━━━━━━━━\u001b[0m \u001b[1m0s\u001b[0m 109ms/step - accuracy: 0.8828 - loss: 0.4060\n",
      "Epoch 30: val_loss improved from 0.37786 to 0.37498, saving model to model/keypoint_classifier/keypoint_classifier.keras\n",
      "\u001b[1m4/4\u001b[0m \u001b[32m━━━━━━━━━━━━━━━━━━━━\u001b[0m\u001b[37m\u001b[0m \u001b[1m0s\u001b[0m 80ms/step - accuracy: 0.8829 - loss: 0.4098 - val_accuracy: 0.8919 - val_loss: 0.3750\n",
      "Epoch 31/1000\n",
      "\u001b[1m1/4\u001b[0m \u001b[32m━━━━━\u001b[0m\u001b[37m━━━━━━━━━━━━━━━\u001b[0m \u001b[1m0s\u001b[0m 101ms/step - accuracy: 0.8438 - loss: 0.4421\n",
      "Epoch 31: val_loss improved from 0.37498 to 0.37279, saving model to model/keypoint_classifier/keypoint_classifier.keras\n",
      "\u001b[1m4/4\u001b[0m \u001b[32m━━━━━━━━━━━━━━━━━━━━\u001b[0m\u001b[37m\u001b[0m \u001b[1m0s\u001b[0m 70ms/step - accuracy: 0.8806 - loss: 0.3768 - val_accuracy: 0.8919 - val_loss: 0.3728\n",
      "Epoch 32/1000\n",
      "\u001b[1m1/4\u001b[0m \u001b[32m━━━━━\u001b[0m\u001b[37m━━━━━━━━━━━━━━━\u001b[0m \u001b[1m0s\u001b[0m 133ms/step - accuracy: 0.8750 - loss: 0.3904\n",
      "Epoch 32: val_loss improved from 0.37279 to 0.37096, saving model to model/keypoint_classifier/keypoint_classifier.keras\n",
      "\u001b[1m4/4\u001b[0m \u001b[32m━━━━━━━━━━━━━━━━━━━━\u001b[0m\u001b[37m\u001b[0m \u001b[1m0s\u001b[0m 88ms/step - accuracy: 0.8829 - loss: 0.3905 - val_accuracy: 0.8919 - val_loss: 0.3710\n",
      "Epoch 33/1000\n",
      "\u001b[1m1/4\u001b[0m \u001b[32m━━━━━\u001b[0m\u001b[37m━━━━━━━━━━━━━━━\u001b[0m \u001b[1m0s\u001b[0m 66ms/step - accuracy: 0.8828 - loss: 0.3816\n",
      "Epoch 33: val_loss improved from 0.37096 to 0.36940, saving model to model/keypoint_classifier/keypoint_classifier.keras\n",
      "\u001b[1m4/4\u001b[0m \u001b[32m━━━━━━━━━━━━━━━━━━━━\u001b[0m\u001b[37m\u001b[0m \u001b[1m0s\u001b[0m 68ms/step - accuracy: 0.8829 - loss: 0.3813 - val_accuracy: 0.8919 - val_loss: 0.3694\n",
      "Epoch 34/1000\n",
      "\u001b[1m1/4\u001b[0m \u001b[32m━━━━━\u001b[0m\u001b[37m━━━━━━━━━━━━━━━\u001b[0m \u001b[1m0s\u001b[0m 112ms/step - accuracy: 0.8750 - loss: 0.3681\n",
      "Epoch 34: val_loss improved from 0.36940 to 0.36776, saving model to model/keypoint_classifier/keypoint_classifier.keras\n",
      "\u001b[1m4/4\u001b[0m \u001b[32m━━━━━━━━━━━━━━━━━━━━\u001b[0m\u001b[37m\u001b[0m \u001b[1m0s\u001b[0m 81ms/step - accuracy: 0.8829 - loss: 0.3672 - val_accuracy: 0.8919 - val_loss: 0.3678\n",
      "Epoch 35/1000\n",
      "\u001b[1m1/4\u001b[0m \u001b[32m━━━━━\u001b[0m\u001b[37m━━━━━━━━━━━━━━━\u001b[0m \u001b[1m0s\u001b[0m 87ms/step - accuracy: 0.8906 - loss: 0.4057\n",
      "Epoch 35: val_loss improved from 0.36776 to 0.36608, saving model to model/keypoint_classifier/keypoint_classifier.keras\n",
      "\u001b[1m4/4\u001b[0m \u001b[32m━━━━━━━━━━━━━━━━━━━━\u001b[0m\u001b[37m\u001b[0m \u001b[1m0s\u001b[0m 68ms/step - accuracy: 0.8806 - loss: 0.3732 - val_accuracy: 0.8919 - val_loss: 0.3661\n",
      "Epoch 36/1000\n",
      "\u001b[1m1/4\u001b[0m \u001b[32m━━━━━\u001b[0m\u001b[37m━━━━━━━━━━━━━━━\u001b[0m \u001b[1m0s\u001b[0m 126ms/step - accuracy: 0.9141 - loss: 0.3020\n",
      "Epoch 36: val_loss improved from 0.36608 to 0.36480, saving model to model/keypoint_classifier/keypoint_classifier.keras\n",
      "\u001b[1m4/4\u001b[0m \u001b[32m━━━━━━━━━━━━━━━━━━━━\u001b[0m\u001b[37m\u001b[0m \u001b[1m0s\u001b[0m 77ms/step - accuracy: 0.8829 - loss: 0.3731 - val_accuracy: 0.8919 - val_loss: 0.3648\n",
      "Epoch 37/1000\n",
      "\u001b[1m1/4\u001b[0m \u001b[32m━━━━━\u001b[0m\u001b[37m━━━━━━━━━━━━━━━\u001b[0m \u001b[1m0s\u001b[0m 63ms/step - accuracy: 0.8984 - loss: 0.3503\n",
      "Epoch 37: val_loss improved from 0.36480 to 0.36364, saving model to model/keypoint_classifier/keypoint_classifier.keras\n",
      "\u001b[1m4/4\u001b[0m \u001b[32m━━━━━━━━━━━━━━━━━━━━\u001b[0m\u001b[37m\u001b[0m \u001b[1m0s\u001b[0m 69ms/step - accuracy: 0.8829 - loss: 0.3621 - val_accuracy: 0.8919 - val_loss: 0.3636\n",
      "Epoch 38/1000\n",
      "\u001b[1m1/4\u001b[0m \u001b[32m━━━━━\u001b[0m\u001b[37m━━━━━━━━━━━━━━━\u001b[0m \u001b[1m0s\u001b[0m 116ms/step - accuracy: 0.8984 - loss: 0.3265\n",
      "Epoch 38: val_loss improved from 0.36364 to 0.36281, saving model to model/keypoint_classifier/keypoint_classifier.keras\n",
      "\u001b[1m4/4\u001b[0m \u001b[32m━━━━━━━━━━━━━━━━━━━━\u001b[0m\u001b[37m\u001b[0m \u001b[1m0s\u001b[0m 79ms/step - accuracy: 0.8829 - loss: 0.3584 - val_accuracy: 0.8919 - val_loss: 0.3628\n",
      "Epoch 39/1000\n",
      "\u001b[1m1/4\u001b[0m \u001b[32m━━━━━\u001b[0m\u001b[37m━━━━━━━━━━━━━━━\u001b[0m \u001b[1m0s\u001b[0m 65ms/step - accuracy: 0.8516 - loss: 0.4648\n",
      "Epoch 39: val_loss improved from 0.36281 to 0.36182, saving model to model/keypoint_classifier/keypoint_classifier.keras\n",
      "\u001b[1m4/4\u001b[0m \u001b[32m━━━━━━━━━━━━━━━━━━━━\u001b[0m\u001b[37m\u001b[0m \u001b[1m0s\u001b[0m 78ms/step - accuracy: 0.8829 - loss: 0.3590 - val_accuracy: 0.8919 - val_loss: 0.3618\n",
      "Epoch 40/1000\n",
      "\u001b[1m1/4\u001b[0m \u001b[32m━━━━━\u001b[0m\u001b[37m━━━━━━━━━━━━━━━\u001b[0m \u001b[1m0s\u001b[0m 96ms/step - accuracy: 0.9141 - loss: 0.3021\n",
      "Epoch 40: val_loss improved from 0.36182 to 0.36073, saving model to model/keypoint_classifier/keypoint_classifier.keras\n",
      "\u001b[1m4/4\u001b[0m \u001b[32m━━━━━━━━━━━━━━━━━━━━\u001b[0m\u001b[37m\u001b[0m \u001b[1m0s\u001b[0m 74ms/step - accuracy: 0.8829 - loss: 0.3629 - val_accuracy: 0.8919 - val_loss: 0.3607\n",
      "Epoch 41/1000\n",
      "\u001b[1m1/4\u001b[0m \u001b[32m━━━━━\u001b[0m\u001b[37m━━━━━━━━━━━━━━━\u001b[0m \u001b[1m0s\u001b[0m 105ms/step - accuracy: 0.8906 - loss: 0.3158\n",
      "Epoch 41: val_loss improved from 0.36073 to 0.35983, saving model to model/keypoint_classifier/keypoint_classifier.keras\n",
      "\u001b[1m4/4\u001b[0m \u001b[32m━━━━━━━━━━━━━━━━━━━━\u001b[0m\u001b[37m\u001b[0m \u001b[1m0s\u001b[0m 70ms/step - accuracy: 0.8829 - loss: 0.3578 - val_accuracy: 0.8919 - val_loss: 0.3598\n",
      "Epoch 42/1000\n",
      "\u001b[1m1/4\u001b[0m \u001b[32m━━━━━\u001b[0m\u001b[37m━━━━━━━━━━━━━━━\u001b[0m \u001b[1m0s\u001b[0m 120ms/step - accuracy: 0.8984 - loss: 0.3396\n",
      "Epoch 42: val_loss improved from 0.35983 to 0.35881, saving model to model/keypoint_classifier/keypoint_classifier.keras\n",
      "\u001b[1m4/4\u001b[0m \u001b[32m━━━━━━━━━━━━━━━━━━━━\u001b[0m\u001b[37m\u001b[0m \u001b[1m0s\u001b[0m 69ms/step - accuracy: 0.8829 - loss: 0.3459 - val_accuracy: 0.8919 - val_loss: 0.3588\n",
      "Epoch 43/1000\n",
      "\u001b[1m1/4\u001b[0m \u001b[32m━━━━━\u001b[0m\u001b[37m━━━━━━━━━━━━━━━\u001b[0m \u001b[1m0s\u001b[0m 110ms/step - accuracy: 0.8438 - loss: 0.5050\n",
      "Epoch 43: val_loss improved from 0.35881 to 0.35727, saving model to model/keypoint_classifier/keypoint_classifier.keras\n",
      "\u001b[1m4/4\u001b[0m \u001b[32m━━━━━━━━━━━━━━━━━━━━\u001b[0m\u001b[37m\u001b[0m \u001b[1m0s\u001b[0m 79ms/step - accuracy: 0.8806 - loss: 0.3497 - val_accuracy: 0.8919 - val_loss: 0.3573\n",
      "Epoch 44/1000\n",
      "\u001b[1m1/4\u001b[0m \u001b[32m━━━━━\u001b[0m\u001b[37m━━━━━━━━━━━━━━━\u001b[0m \u001b[1m0s\u001b[0m 75ms/step - accuracy: 0.9141 - loss: 0.2588\n",
      "Epoch 44: val_loss improved from 0.35727 to 0.35621, saving model to model/keypoint_classifier/keypoint_classifier.keras\n",
      "\u001b[1m4/4\u001b[0m \u001b[32m━━━━━━━━━━━━━━━━━━━━\u001b[0m\u001b[37m\u001b[0m \u001b[1m0s\u001b[0m 78ms/step - accuracy: 0.8829 - loss: 0.3427 - val_accuracy: 0.8919 - val_loss: 0.3562\n",
      "Epoch 45/1000\n",
      "\u001b[1m1/4\u001b[0m \u001b[32m━━━━━\u001b[0m\u001b[37m━━━━━━━━━━━━━━━\u001b[0m \u001b[1m0s\u001b[0m 80ms/step - accuracy: 0.9141 - loss: 0.2835\n",
      "Epoch 45: val_loss improved from 0.35621 to 0.35512, saving model to model/keypoint_classifier/keypoint_classifier.keras\n",
      "\u001b[1m4/4\u001b[0m \u001b[32m━━━━━━━━━━━━━━━━━━━━\u001b[0m\u001b[37m\u001b[0m \u001b[1m0s\u001b[0m 89ms/step - accuracy: 0.8829 - loss: 0.3472 - val_accuracy: 0.8919 - val_loss: 0.3551\n",
      "Epoch 46/1000\n",
      "\u001b[1m1/4\u001b[0m \u001b[32m━━━━━\u001b[0m\u001b[37m━━━━━━━━━━━━━━━\u001b[0m \u001b[1m0s\u001b[0m 63ms/step - accuracy: 0.8750 - loss: 0.3165\n",
      "Epoch 46: val_loss improved from 0.35512 to 0.35418, saving model to model/keypoint_classifier/keypoint_classifier.keras\n",
      "\u001b[1m4/4\u001b[0m \u001b[32m━━━━━━━━━━━━━━━━━━━━\u001b[0m\u001b[37m\u001b[0m \u001b[1m0s\u001b[0m 71ms/step - accuracy: 0.8829 - loss: 0.3426 - val_accuracy: 0.8919 - val_loss: 0.3542\n",
      "Epoch 47/1000\n",
      "\u001b[1m1/4\u001b[0m \u001b[32m━━━━━\u001b[0m\u001b[37m━━━━━━━━━━━━━━━\u001b[0m \u001b[1m0s\u001b[0m 65ms/step - accuracy: 0.8750 - loss: 0.3559\n",
      "Epoch 47: val_loss improved from 0.35418 to 0.35324, saving model to model/keypoint_classifier/keypoint_classifier.keras\n",
      "\u001b[1m4/4\u001b[0m \u001b[32m━━━━━━━━━━━━━━━━━━━━\u001b[0m\u001b[37m\u001b[0m \u001b[1m0s\u001b[0m 67ms/step - accuracy: 0.8829 - loss: 0.3332 - val_accuracy: 0.8919 - val_loss: 0.3532\n",
      "Epoch 48/1000\n",
      "\u001b[1m1/4\u001b[0m \u001b[32m━━━━━\u001b[0m\u001b[37m━━━━━━━━━━━━━━━\u001b[0m \u001b[1m0s\u001b[0m 70ms/step - accuracy: 0.8828 - loss: 0.3592\n",
      "Epoch 48: val_loss improved from 0.35324 to 0.35209, saving model to model/keypoint_classifier/keypoint_classifier.keras\n",
      "\u001b[1m4/4\u001b[0m \u001b[32m━━━━━━━━━━━━━━━━━━━━\u001b[0m\u001b[37m\u001b[0m \u001b[1m0s\u001b[0m 79ms/step - accuracy: 0.8829 - loss: 0.3432 - val_accuracy: 0.8919 - val_loss: 0.3521\n",
      "Epoch 49/1000\n",
      "\u001b[1m1/4\u001b[0m \u001b[32m━━━━━\u001b[0m\u001b[37m━━━━━━━━━━━━━━━\u001b[0m \u001b[1m0s\u001b[0m 64ms/step - accuracy: 0.8828 - loss: 0.3212\n",
      "Epoch 49: val_loss improved from 0.35209 to 0.35074, saving model to model/keypoint_classifier/keypoint_classifier.keras\n",
      "\u001b[1m4/4\u001b[0m \u001b[32m━━━━━━━━━━━━━━━━━━━━\u001b[0m\u001b[37m\u001b[0m \u001b[1m0s\u001b[0m 64ms/step - accuracy: 0.8829 - loss: 0.3273 - val_accuracy: 0.8919 - val_loss: 0.3507\n",
      "Epoch 50/1000\n",
      "\u001b[1m1/4\u001b[0m \u001b[32m━━━━━\u001b[0m\u001b[37m━━━━━━━━━━━━━━━\u001b[0m \u001b[1m0s\u001b[0m 132ms/step - accuracy: 0.8672 - loss: 0.3605\n",
      "Epoch 50: val_loss improved from 0.35074 to 0.34980, saving model to model/keypoint_classifier/keypoint_classifier.keras\n",
      "\u001b[1m4/4\u001b[0m \u001b[32m━━━━━━━━━━━━━━━━━━━━\u001b[0m\u001b[37m\u001b[0m \u001b[1m0s\u001b[0m 83ms/step - accuracy: 0.8829 - loss: 0.3296 - val_accuracy: 0.8919 - val_loss: 0.3498\n",
      "Epoch 51/1000\n",
      "\u001b[1m1/4\u001b[0m \u001b[32m━━━━━\u001b[0m\u001b[37m━━━━━━━━━━━━━━━\u001b[0m \u001b[1m0s\u001b[0m 78ms/step - accuracy: 0.9062 - loss: 0.3024\n",
      "Epoch 51: val_loss improved from 0.34980 to 0.34921, saving model to model/keypoint_classifier/keypoint_classifier.keras\n",
      "\u001b[1m4/4\u001b[0m \u001b[32m━━━━━━━━━━━━━━━━━━━━\u001b[0m\u001b[37m\u001b[0m \u001b[1m0s\u001b[0m 85ms/step - accuracy: 0.8829 - loss: 0.3382 - val_accuracy: 0.8919 - val_loss: 0.3492\n",
      "Epoch 52/1000\n",
      "\u001b[1m1/4\u001b[0m \u001b[32m━━━━━\u001b[0m\u001b[37m━━━━━━━━━━━━━━━\u001b[0m \u001b[1m0s\u001b[0m 93ms/step - accuracy: 0.8828 - loss: 0.3626\n",
      "Epoch 52: val_loss improved from 0.34921 to 0.34866, saving model to model/keypoint_classifier/keypoint_classifier.keras\n",
      "\u001b[1m4/4\u001b[0m \u001b[32m━━━━━━━━━━━━━━━━━━━━\u001b[0m\u001b[37m\u001b[0m \u001b[1m0s\u001b[0m 78ms/step - accuracy: 0.8829 - loss: 0.3240 - val_accuracy: 0.8919 - val_loss: 0.3487\n",
      "Epoch 53/1000\n",
      "\u001b[1m1/4\u001b[0m \u001b[32m━━━━━\u001b[0m\u001b[37m━━━━━━━━━━━━━━━\u001b[0m \u001b[1m0s\u001b[0m 103ms/step - accuracy: 0.9141 - loss: 0.2663\n",
      "Epoch 53: val_loss improved from 0.34866 to 0.34805, saving model to model/keypoint_classifier/keypoint_classifier.keras\n",
      "\u001b[1m4/4\u001b[0m \u001b[32m━━━━━━━━━━━━━━━━━━━━\u001b[0m\u001b[37m\u001b[0m \u001b[1m0s\u001b[0m 72ms/step - accuracy: 0.8829 - loss: 0.3306 - val_accuracy: 0.8919 - val_loss: 0.3480\n",
      "Epoch 54/1000\n",
      "\u001b[1m1/4\u001b[0m \u001b[32m━━━━━\u001b[0m\u001b[37m━━━━━━━━━━━━━━━\u001b[0m \u001b[1m0s\u001b[0m 88ms/step - accuracy: 0.9141 - loss: 0.2344\n",
      "Epoch 54: val_loss improved from 0.34805 to 0.34760, saving model to model/keypoint_classifier/keypoint_classifier.keras\n",
      "\u001b[1m4/4\u001b[0m \u001b[32m━━━━━━━━━━━━━━━━━━━━\u001b[0m\u001b[37m\u001b[0m \u001b[1m0s\u001b[0m 67ms/step - accuracy: 0.8829 - loss: 0.3261 - val_accuracy: 0.8919 - val_loss: 0.3476\n",
      "Epoch 55/1000\n",
      "\u001b[1m1/4\u001b[0m \u001b[32m━━━━━\u001b[0m\u001b[37m━━━━━━━━━━━━━━━\u001b[0m \u001b[1m0s\u001b[0m 100ms/step - accuracy: 0.8594 - loss: 0.4098\n",
      "Epoch 55: val_loss improved from 0.34760 to 0.34641, saving model to model/keypoint_classifier/keypoint_classifier.keras\n",
      "\u001b[1m4/4\u001b[0m \u001b[32m━━━━━━━━━━━━━━━━━━━━\u001b[0m\u001b[37m\u001b[0m \u001b[1m0s\u001b[0m 83ms/step - accuracy: 0.8829 - loss: 0.3274 - val_accuracy: 0.8919 - val_loss: 0.3464\n",
      "Epoch 56/1000\n",
      "\u001b[1m1/4\u001b[0m \u001b[32m━━━━━\u001b[0m\u001b[37m━━━━━━━━━━━━━━━\u001b[0m \u001b[1m0s\u001b[0m 98ms/step - accuracy: 0.8594 - loss: 0.3535\n",
      "Epoch 56: val_loss improved from 0.34641 to 0.34566, saving model to model/keypoint_classifier/keypoint_classifier.keras\n",
      "\u001b[1m4/4\u001b[0m \u001b[32m━━━━━━━━━━━━━━━━━━━━\u001b[0m\u001b[37m\u001b[0m \u001b[1m0s\u001b[0m 74ms/step - accuracy: 0.8829 - loss: 0.3299 - val_accuracy: 0.8919 - val_loss: 0.3457\n",
      "Epoch 57/1000\n",
      "\u001b[1m1/4\u001b[0m \u001b[32m━━━━━\u001b[0m\u001b[37m━━━━━━━━━━━━━━━\u001b[0m \u001b[1m0s\u001b[0m 96ms/step - accuracy: 0.8750 - loss: 0.3339\n",
      "Epoch 57: val_loss improved from 0.34566 to 0.34511, saving model to model/keypoint_classifier/keypoint_classifier.keras\n",
      "\u001b[1m4/4\u001b[0m \u001b[32m━━━━━━━━━━━━━━━━━━━━\u001b[0m\u001b[37m\u001b[0m \u001b[1m0s\u001b[0m 69ms/step - accuracy: 0.8829 - loss: 0.3254 - val_accuracy: 0.8919 - val_loss: 0.3451\n",
      "Epoch 58/1000\n",
      "\u001b[1m1/4\u001b[0m \u001b[32m━━━━━\u001b[0m\u001b[37m━━━━━━━━━━━━━━━\u001b[0m \u001b[1m0s\u001b[0m 113ms/step - accuracy: 0.8828 - loss: 0.3238\n",
      "Epoch 58: val_loss improved from 0.34511 to 0.34489, saving model to model/keypoint_classifier/keypoint_classifier.keras\n",
      "\u001b[1m4/4\u001b[0m \u001b[32m━━━━━━━━━━━━━━━━━━━━\u001b[0m\u001b[37m\u001b[0m \u001b[1m0s\u001b[0m 73ms/step - accuracy: 0.8829 - loss: 0.3221 - val_accuracy: 0.8919 - val_loss: 0.3449\n",
      "Epoch 59/1000\n",
      "\u001b[1m1/4\u001b[0m \u001b[32m━━━━━\u001b[0m\u001b[37m━━━━━━━━━━━━━━━\u001b[0m \u001b[1m0s\u001b[0m 54ms/step - accuracy: 0.9141 - loss: 0.2354\n",
      "Epoch 59: val_loss improved from 0.34489 to 0.34464, saving model to model/keypoint_classifier/keypoint_classifier.keras\n",
      "\u001b[1m4/4\u001b[0m \u001b[32m━━━━━━━━━━━━━━━━━━━━\u001b[0m\u001b[37m\u001b[0m \u001b[1m0s\u001b[0m 73ms/step - accuracy: 0.8829 - loss: 0.3185 - val_accuracy: 0.8919 - val_loss: 0.3446\n",
      "Epoch 60/1000\n",
      "\u001b[1m1/4\u001b[0m \u001b[32m━━━━━\u001b[0m\u001b[37m━━━━━━━━━━━━━━━\u001b[0m \u001b[1m0s\u001b[0m 64ms/step - accuracy: 0.8828 - loss: 0.3559\n",
      "Epoch 60: val_loss improved from 0.34464 to 0.34395, saving model to model/keypoint_classifier/keypoint_classifier.keras\n",
      "\u001b[1m4/4\u001b[0m \u001b[32m━━━━━━━━━━━━━━━━━━━━\u001b[0m\u001b[37m\u001b[0m \u001b[1m0s\u001b[0m 76ms/step - accuracy: 0.8829 - loss: 0.3248 - val_accuracy: 0.8919 - val_loss: 0.3439\n",
      "Epoch 61/1000\n",
      "\u001b[1m1/4\u001b[0m \u001b[32m━━━━━\u001b[0m\u001b[37m━━━━━━━━━━━━━━━\u001b[0m \u001b[1m0s\u001b[0m 68ms/step - accuracy: 0.9141 - loss: 0.2401\n",
      "Epoch 61: val_loss improved from 0.34395 to 0.34344, saving model to model/keypoint_classifier/keypoint_classifier.keras\n",
      "\u001b[1m4/4\u001b[0m \u001b[32m━━━━━━━━━━━━━━━━━━━━\u001b[0m\u001b[37m\u001b[0m \u001b[1m0s\u001b[0m 81ms/step - accuracy: 0.8829 - loss: 0.3178 - val_accuracy: 0.8919 - val_loss: 0.3434\n",
      "Epoch 62/1000\n",
      "\u001b[1m1/4\u001b[0m \u001b[32m━━━━━\u001b[0m\u001b[37m━━━━━━━━━━━━━━━\u001b[0m \u001b[1m0s\u001b[0m 94ms/step - accuracy: 0.9141 - loss: 0.2900\n",
      "Epoch 62: val_loss improved from 0.34344 to 0.34263, saving model to model/keypoint_classifier/keypoint_classifier.keras\n",
      "\u001b[1m4/4\u001b[0m \u001b[32m━━━━━━━━━━━━━━━━━━━━\u001b[0m\u001b[37m\u001b[0m \u001b[1m0s\u001b[0m 88ms/step - accuracy: 0.8829 - loss: 0.3199 - val_accuracy: 0.8919 - val_loss: 0.3426\n",
      "Epoch 63/1000\n",
      "\u001b[1m1/4\u001b[0m \u001b[32m━━━━━\u001b[0m\u001b[37m━━━━━━━━━━━━━━━\u001b[0m \u001b[1m1s\u001b[0m 366ms/step - accuracy: 0.9141 - loss: 0.2852\n",
      "Epoch 63: val_loss improved from 0.34263 to 0.34190, saving model to model/keypoint_classifier/keypoint_classifier.keras\n",
      "\u001b[1m4/4\u001b[0m \u001b[32m━━━━━━━━━━━━━━━━━━━━\u001b[0m\u001b[37m\u001b[0m \u001b[1m1s\u001b[0m 73ms/step - accuracy: 0.8829 - loss: 0.3206 - val_accuracy: 0.8919 - val_loss: 0.3419\n",
      "Epoch 64/1000\n",
      "\u001b[1m1/4\u001b[0m \u001b[32m━━━━━\u001b[0m\u001b[37m━━━━━━━━━━━━━━━\u001b[0m \u001b[1m0s\u001b[0m 92ms/step - accuracy: 0.8359 - loss: 0.3861\n",
      "Epoch 64: val_loss improved from 0.34190 to 0.34138, saving model to model/keypoint_classifier/keypoint_classifier.keras\n",
      "\u001b[1m4/4\u001b[0m \u001b[32m━━━━━━━━━━━━━━━━━━━━\u001b[0m\u001b[37m\u001b[0m \u001b[1m0s\u001b[0m 68ms/step - accuracy: 0.8829 - loss: 0.3013 - val_accuracy: 0.8919 - val_loss: 0.3414\n",
      "Epoch 65/1000\n",
      "\u001b[1m1/4\u001b[0m \u001b[32m━━━━━\u001b[0m\u001b[37m━━━━━━━━━━━━━━━\u001b[0m \u001b[1m0s\u001b[0m 103ms/step - accuracy: 0.9297 - loss: 0.1922\n",
      "Epoch 65: val_loss improved from 0.34138 to 0.34070, saving model to model/keypoint_classifier/keypoint_classifier.keras\n",
      "\u001b[1m4/4\u001b[0m \u001b[32m━━━━━━━━━━━━━━━━━━━━\u001b[0m\u001b[37m\u001b[0m \u001b[1m0s\u001b[0m 71ms/step - accuracy: 0.8829 - loss: 0.3156 - val_accuracy: 0.8919 - val_loss: 0.3407\n",
      "Epoch 66/1000\n",
      "\u001b[1m1/4\u001b[0m \u001b[32m━━━━━\u001b[0m\u001b[37m━━━━━━━━━━━━━━━\u001b[0m \u001b[1m0s\u001b[0m 132ms/step - accuracy: 0.8750 - loss: 0.2986\n",
      "Epoch 66: val_loss improved from 0.34070 to 0.34070, saving model to model/keypoint_classifier/keypoint_classifier.keras\n",
      "\u001b[1m4/4\u001b[0m \u001b[32m━━━━━━━━━━━━━━━━━━━━\u001b[0m\u001b[37m\u001b[0m \u001b[1m0s\u001b[0m 65ms/step - accuracy: 0.8829 - loss: 0.3147 - val_accuracy: 0.8919 - val_loss: 0.3407\n",
      "Epoch 67/1000\n",
      "\u001b[1m1/4\u001b[0m \u001b[32m━━━━━\u001b[0m\u001b[37m━━━━━━━━━━━━━━━\u001b[0m \u001b[1m0s\u001b[0m 70ms/step - accuracy: 0.8750 - loss: 0.3359\n",
      "Epoch 67: val_loss improved from 0.34070 to 0.34048, saving model to model/keypoint_classifier/keypoint_classifier.keras\n",
      "\u001b[1m4/4\u001b[0m \u001b[32m━━━━━━━━━━━━━━━━━━━━\u001b[0m\u001b[37m\u001b[0m \u001b[1m0s\u001b[0m 72ms/step - accuracy: 0.8806 - loss: 0.3089 - val_accuracy: 0.8919 - val_loss: 0.3405\n",
      "Epoch 68/1000\n",
      "\u001b[1m1/4\u001b[0m \u001b[32m━━━━━\u001b[0m\u001b[37m━━━━━━━━━━━━━━━\u001b[0m \u001b[1m0s\u001b[0m 105ms/step - accuracy: 0.8906 - loss: 0.3340\n",
      "Epoch 68: val_loss improved from 0.34048 to 0.33995, saving model to model/keypoint_classifier/keypoint_classifier.keras\n",
      "\u001b[1m4/4\u001b[0m \u001b[32m━━━━━━━━━━━━━━━━━━━━\u001b[0m\u001b[37m\u001b[0m \u001b[1m0s\u001b[0m 77ms/step - accuracy: 0.8829 - loss: 0.3274 - val_accuracy: 0.8919 - val_loss: 0.3400\n",
      "Epoch 69/1000\n",
      "\u001b[1m1/4\u001b[0m \u001b[32m━━━━━\u001b[0m\u001b[37m━━━━━━━━━━━━━━━\u001b[0m \u001b[1m0s\u001b[0m 57ms/step - accuracy: 0.9062 - loss: 0.2709\n",
      "Epoch 69: val_loss improved from 0.33995 to 0.33914, saving model to model/keypoint_classifier/keypoint_classifier.keras\n",
      "\u001b[1m4/4\u001b[0m \u001b[32m━━━━━━━━━━━━━━━━━━━━\u001b[0m\u001b[37m\u001b[0m \u001b[1m0s\u001b[0m 74ms/step - accuracy: 0.8829 - loss: 0.3233 - val_accuracy: 0.8919 - val_loss: 0.3391\n",
      "Epoch 70/1000\n",
      "\u001b[1m1/4\u001b[0m \u001b[32m━━━━━\u001b[0m\u001b[37m━━━━━━━━━━━━━━━\u001b[0m \u001b[1m0s\u001b[0m 112ms/step - accuracy: 0.8672 - loss: 0.3440\n",
      "Epoch 70: val_loss improved from 0.33914 to 0.33865, saving model to model/keypoint_classifier/keypoint_classifier.keras\n",
      "\u001b[1m4/4\u001b[0m \u001b[32m━━━━━━━━━━━━━━━━━━━━\u001b[0m\u001b[37m\u001b[0m \u001b[1m0s\u001b[0m 76ms/step - accuracy: 0.8829 - loss: 0.3139 - val_accuracy: 0.8919 - val_loss: 0.3386\n",
      "Epoch 71/1000\n",
      "\u001b[1m1/4\u001b[0m \u001b[32m━━━━━\u001b[0m\u001b[37m━━━━━━━━━━━━━━━\u001b[0m \u001b[1m0s\u001b[0m 101ms/step - accuracy: 0.8750 - loss: 0.3169\n",
      "Epoch 71: val_loss improved from 0.33865 to 0.33830, saving model to model/keypoint_classifier/keypoint_classifier.keras\n",
      "\u001b[1m4/4\u001b[0m \u001b[32m━━━━━━━━━━━━━━━━━━━━\u001b[0m\u001b[37m\u001b[0m \u001b[1m0s\u001b[0m 74ms/step - accuracy: 0.8829 - loss: 0.3145 - val_accuracy: 0.8919 - val_loss: 0.3383\n",
      "Epoch 72/1000\n",
      "\u001b[1m1/4\u001b[0m \u001b[32m━━━━━\u001b[0m\u001b[37m━━━━━━━━━━━━━━━\u001b[0m \u001b[1m0s\u001b[0m 120ms/step - accuracy: 0.8672 - loss: 0.3269\n",
      "Epoch 72: val_loss improved from 0.33830 to 0.33767, saving model to model/keypoint_classifier/keypoint_classifier.keras\n",
      "\u001b[1m4/4\u001b[0m \u001b[32m━━━━━━━━━━━━━━━━━━━━\u001b[0m\u001b[37m\u001b[0m \u001b[1m0s\u001b[0m 79ms/step - accuracy: 0.8829 - loss: 0.3059 - val_accuracy: 0.8919 - val_loss: 0.3377\n",
      "Epoch 73/1000\n",
      "\u001b[1m1/4\u001b[0m \u001b[32m━━━━━\u001b[0m\u001b[37m━━━━━━━━━━━━━━━\u001b[0m \u001b[1m0s\u001b[0m 48ms/step - accuracy: 0.8516 - loss: 0.3868\n",
      "Epoch 73: val_loss improved from 0.33767 to 0.33693, saving model to model/keypoint_classifier/keypoint_classifier.keras\n",
      "\u001b[1m4/4\u001b[0m \u001b[32m━━━━━━━━━━━━━━━━━━━━\u001b[0m\u001b[37m\u001b[0m \u001b[1m0s\u001b[0m 63ms/step - accuracy: 0.8829 - loss: 0.3109 - val_accuracy: 0.8919 - val_loss: 0.3369\n",
      "Epoch 74/1000\n",
      "\u001b[1m1/4\u001b[0m \u001b[32m━━━━━\u001b[0m\u001b[37m━━━━━━━━━━━━━━━\u001b[0m \u001b[1m0s\u001b[0m 147ms/step - accuracy: 0.8750 - loss: 0.3170\n",
      "Epoch 74: val_loss did not improve from 0.33693\n",
      "\u001b[1m4/4\u001b[0m \u001b[32m━━━━━━━━━━━━━━━━━━━━\u001b[0m\u001b[37m\u001b[0m \u001b[1m0s\u001b[0m 59ms/step - accuracy: 0.8829 - loss: 0.3108 - val_accuracy: 0.8919 - val_loss: 0.3369\n",
      "Epoch 75/1000\n",
      "\u001b[1m1/4\u001b[0m \u001b[32m━━━━━\u001b[0m\u001b[37m━━━━━━━━━━━━━━━\u001b[0m \u001b[1m0s\u001b[0m 134ms/step - accuracy: 0.8594 - loss: 0.3723\n",
      "Epoch 75: val_loss did not improve from 0.33693\n",
      "\u001b[1m4/4\u001b[0m \u001b[32m━━━━━━━━━━━━━━━━━━━━\u001b[0m\u001b[37m\u001b[0m \u001b[1m0s\u001b[0m 59ms/step - accuracy: 0.8829 - loss: 0.3112 - val_accuracy: 0.8919 - val_loss: 0.3377\n",
      "Epoch 76/1000\n",
      "\u001b[1m1/4\u001b[0m \u001b[32m━━━━━\u001b[0m\u001b[37m━━━━━━━━━━━━━━━\u001b[0m \u001b[1m0s\u001b[0m 74ms/step - accuracy: 0.8984 - loss: 0.2626\n",
      "Epoch 76: val_loss did not improve from 0.33693\n",
      "\u001b[1m4/4\u001b[0m \u001b[32m━━━━━━━━━━━━━━━━━━━━\u001b[0m\u001b[37m\u001b[0m \u001b[1m0s\u001b[0m 55ms/step - accuracy: 0.8829 - loss: 0.3137 - val_accuracy: 0.8919 - val_loss: 0.3388\n",
      "Epoch 77/1000\n",
      "\u001b[1m1/4\u001b[0m \u001b[32m━━━━━\u001b[0m\u001b[37m━━━━━━━━━━━━━━━\u001b[0m \u001b[1m0s\u001b[0m 88ms/step - accuracy: 0.8750 - loss: 0.3112\n",
      "Epoch 77: val_loss did not improve from 0.33693\n",
      "\u001b[1m4/4\u001b[0m \u001b[32m━━━━━━━━━━━━━━━━━━━━\u001b[0m\u001b[37m\u001b[0m \u001b[1m0s\u001b[0m 55ms/step - accuracy: 0.8829 - loss: 0.3023 - val_accuracy: 0.8919 - val_loss: 0.3394\n",
      "Epoch 78/1000\n",
      "\u001b[1m1/4\u001b[0m \u001b[32m━━━━━\u001b[0m\u001b[37m━━━━━━━━━━━━━━━\u001b[0m \u001b[1m0s\u001b[0m 151ms/step - accuracy: 0.8672 - loss: 0.3483\n",
      "Epoch 78: val_loss did not improve from 0.33693\n",
      "\u001b[1m4/4\u001b[0m \u001b[32m━━━━━━━━━━━━━━━━━━━━\u001b[0m\u001b[37m\u001b[0m \u001b[1m0s\u001b[0m 62ms/step - accuracy: 0.8829 - loss: 0.3187 - val_accuracy: 0.8919 - val_loss: 0.3397\n",
      "Epoch 79/1000\n",
      "\u001b[1m1/4\u001b[0m \u001b[32m━━━━━\u001b[0m\u001b[37m━━━━━━━━━━━━━━━\u001b[0m \u001b[1m0s\u001b[0m 134ms/step - accuracy: 0.8594 - loss: 0.3842\n",
      "Epoch 79: val_loss did not improve from 0.33693\n",
      "\u001b[1m4/4\u001b[0m \u001b[32m━━━━━━━━━━━━━━━━━━━━\u001b[0m\u001b[37m\u001b[0m \u001b[1m0s\u001b[0m 63ms/step - accuracy: 0.8829 - loss: 0.3033 - val_accuracy: 0.8919 - val_loss: 0.3396\n",
      "Epoch 80/1000\n",
      "\u001b[1m1/4\u001b[0m \u001b[32m━━━━━\u001b[0m\u001b[37m━━━━━━━━━━━━━━━\u001b[0m \u001b[1m0s\u001b[0m 147ms/step - accuracy: 0.8672 - loss: 0.3270\n",
      "Epoch 80: val_loss did not improve from 0.33693\n",
      "\u001b[1m4/4\u001b[0m \u001b[32m━━━━━━━━━━━━━━━━━━━━\u001b[0m\u001b[37m\u001b[0m \u001b[1m0s\u001b[0m 58ms/step - accuracy: 0.8829 - loss: 0.3041 - val_accuracy: 0.8919 - val_loss: 0.3395\n",
      "Epoch 81/1000\n",
      "\u001b[1m1/4\u001b[0m \u001b[32m━━━━━\u001b[0m\u001b[37m━━━━━━━━━━━━━━━\u001b[0m \u001b[1m0s\u001b[0m 148ms/step - accuracy: 0.9219 - loss: 0.2316\n",
      "Epoch 81: val_loss did not improve from 0.33693\n",
      "\u001b[1m4/4\u001b[0m \u001b[32m━━━━━━━━━━━━━━━━━━━━\u001b[0m\u001b[37m\u001b[0m \u001b[1m0s\u001b[0m 65ms/step - accuracy: 0.8829 - loss: 0.3081 - val_accuracy: 0.8919 - val_loss: 0.3397\n",
      "Epoch 82/1000\n",
      "\u001b[1m1/4\u001b[0m \u001b[32m━━━━━\u001b[0m\u001b[37m━━━━━━━━━━━━━━━\u001b[0m \u001b[1m0s\u001b[0m 131ms/step - accuracy: 0.8672 - loss: 0.3646\n",
      "Epoch 82: val_loss did not improve from 0.33693\n",
      "\u001b[1m4/4\u001b[0m \u001b[32m━━━━━━━━━━━━━━━━━━━━\u001b[0m\u001b[37m\u001b[0m \u001b[1m0s\u001b[0m 48ms/step - accuracy: 0.8829 - loss: 0.3176 - val_accuracy: 0.8919 - val_loss: 0.3396\n",
      "Epoch 83/1000\n",
      "\u001b[1m1/4\u001b[0m \u001b[32m━━━━━\u001b[0m\u001b[37m━━━━━━━━━━━━━━━\u001b[0m \u001b[1m0s\u001b[0m 66ms/step - accuracy: 0.9062 - loss: 0.2574\n",
      "Epoch 83: val_loss did not improve from 0.33693\n",
      "\u001b[1m4/4\u001b[0m \u001b[32m━━━━━━━━━━━━━━━━━━━━\u001b[0m\u001b[37m\u001b[0m \u001b[1m0s\u001b[0m 39ms/step - accuracy: 0.8829 - loss: 0.2914 - val_accuracy: 0.8919 - val_loss: 0.3385\n",
      "Epoch 84/1000\n",
      "\u001b[1m1/4\u001b[0m \u001b[32m━━━━━\u001b[0m\u001b[37m━━━━━━━━━━━━━━━\u001b[0m \u001b[1m0s\u001b[0m 191ms/step - accuracy: 0.8672 - loss: 0.3441\n",
      "Epoch 84: val_loss did not improve from 0.33693\n",
      "\u001b[1m4/4\u001b[0m \u001b[32m━━━━━━━━━━━━━━━━━━━━\u001b[0m\u001b[37m\u001b[0m \u001b[1m0s\u001b[0m 53ms/step - accuracy: 0.8829 - loss: 0.3081 - val_accuracy: 0.8919 - val_loss: 0.3373\n",
      "Epoch 85/1000\n",
      "\u001b[1m1/4\u001b[0m \u001b[32m━━━━━\u001b[0m\u001b[37m━━━━━━━━━━━━━━━\u001b[0m \u001b[1m0s\u001b[0m 180ms/step - accuracy: 0.8984 - loss: 0.3119\n",
      "Epoch 85: val_loss improved from 0.33693 to 0.33651, saving model to model/keypoint_classifier/keypoint_classifier.keras\n",
      "\u001b[1m4/4\u001b[0m \u001b[32m━━━━━━━━━━━━━━━━━━━━\u001b[0m\u001b[37m\u001b[0m \u001b[1m0s\u001b[0m 71ms/step - accuracy: 0.8829 - loss: 0.3117 - val_accuracy: 0.8919 - val_loss: 0.3365\n",
      "Epoch 86/1000\n",
      "\u001b[1m1/4\u001b[0m \u001b[32m━━━━━\u001b[0m\u001b[37m━━━━━━━━━━━━━━━\u001b[0m \u001b[1m0s\u001b[0m 124ms/step - accuracy: 0.8203 - loss: 0.4501\n",
      "Epoch 86: val_loss improved from 0.33651 to 0.33517, saving model to model/keypoint_classifier/keypoint_classifier.keras\n",
      "\u001b[1m4/4\u001b[0m \u001b[32m━━━━━━━━━━━━━━━━━━━━\u001b[0m\u001b[37m\u001b[0m \u001b[1m0s\u001b[0m 68ms/step - accuracy: 0.8829 - loss: 0.3034 - val_accuracy: 0.8919 - val_loss: 0.3352\n",
      "Epoch 87/1000\n",
      "\u001b[1m1/4\u001b[0m \u001b[32m━━━━━\u001b[0m\u001b[37m━━━━━━━━━━━━━━━\u001b[0m \u001b[1m0s\u001b[0m 64ms/step - accuracy: 0.9062 - loss: 0.2503\n",
      "Epoch 87: val_loss did not improve from 0.33517\n",
      "\u001b[1m4/4\u001b[0m \u001b[32m━━━━━━━━━━━━━━━━━━━━\u001b[0m\u001b[37m\u001b[0m \u001b[1m0s\u001b[0m 48ms/step - accuracy: 0.8829 - loss: 0.3038 - val_accuracy: 0.8919 - val_loss: 0.3353\n",
      "Epoch 88/1000\n",
      "\u001b[1m1/4\u001b[0m \u001b[32m━━━━━\u001b[0m\u001b[37m━━━━━━━━━━━━━━━\u001b[0m \u001b[1m0s\u001b[0m 183ms/step - accuracy: 0.9141 - loss: 0.2490\n",
      "Epoch 88: val_loss improved from 0.33517 to 0.33497, saving model to model/keypoint_classifier/keypoint_classifier.keras\n",
      "\u001b[1m4/4\u001b[0m \u001b[32m━━━━━━━━━━━━━━━━━━━━\u001b[0m\u001b[37m\u001b[0m \u001b[1m0s\u001b[0m 76ms/step - accuracy: 0.8829 - loss: 0.3063 - val_accuracy: 0.8919 - val_loss: 0.3350\n",
      "Epoch 89/1000\n",
      "\u001b[1m1/4\u001b[0m \u001b[32m━━━━━\u001b[0m\u001b[37m━━━━━━━━━━━━━━━\u001b[0m \u001b[1m0s\u001b[0m 99ms/step - accuracy: 0.8359 - loss: 0.3795\n",
      "Epoch 89: val_loss improved from 0.33497 to 0.33486, saving model to model/keypoint_classifier/keypoint_classifier.keras\n",
      "\u001b[1m4/4\u001b[0m \u001b[32m━━━━━━━━━━━━━━━━━━━━\u001b[0m\u001b[37m\u001b[0m \u001b[1m0s\u001b[0m 83ms/step - accuracy: 0.8829 - loss: 0.2985 - val_accuracy: 0.8919 - val_loss: 0.3349\n",
      "Epoch 90/1000\n",
      "\u001b[1m1/4\u001b[0m \u001b[32m━━━━━\u001b[0m\u001b[37m━━━━━━━━━━━━━━━\u001b[0m \u001b[1m0s\u001b[0m 80ms/step - accuracy: 0.8984 - loss: 0.2547\n",
      "Epoch 90: val_loss improved from 0.33486 to 0.33437, saving model to model/keypoint_classifier/keypoint_classifier.keras\n",
      "\u001b[1m4/4\u001b[0m \u001b[32m━━━━━━━━━━━━━━━━━━━━\u001b[0m\u001b[37m\u001b[0m \u001b[1m0s\u001b[0m 63ms/step - accuracy: 0.8829 - loss: 0.2906 - val_accuracy: 0.8919 - val_loss: 0.3344\n",
      "Epoch 91/1000\n",
      "\u001b[1m1/4\u001b[0m \u001b[32m━━━━━\u001b[0m\u001b[37m━━━━━━━━━━━━━━━\u001b[0m \u001b[1m0s\u001b[0m 111ms/step - accuracy: 0.9141 - loss: 0.2318\n",
      "Epoch 91: val_loss improved from 0.33437 to 0.33387, saving model to model/keypoint_classifier/keypoint_classifier.keras\n",
      "\u001b[1m4/4\u001b[0m \u001b[32m━━━━━━━━━━━━━━━━━━━━\u001b[0m\u001b[37m\u001b[0m \u001b[1m0s\u001b[0m 69ms/step - accuracy: 0.8829 - loss: 0.3049 - val_accuracy: 0.8919 - val_loss: 0.3339\n",
      "Epoch 92/1000\n",
      "\u001b[1m1/4\u001b[0m \u001b[32m━━━━━\u001b[0m\u001b[37m━━━━━━━━━━━━━━━\u001b[0m \u001b[1m0s\u001b[0m 63ms/step - accuracy: 0.8906 - loss: 0.2643\n",
      "Epoch 92: val_loss improved from 0.33387 to 0.33371, saving model to model/keypoint_classifier/keypoint_classifier.keras\n",
      "\u001b[1m4/4\u001b[0m \u001b[32m━━━━━━━━━━━━━━━━━━━━\u001b[0m\u001b[37m\u001b[0m \u001b[1m0s\u001b[0m 78ms/step - accuracy: 0.8829 - loss: 0.3002 - val_accuracy: 0.8919 - val_loss: 0.3337\n",
      "Epoch 93/1000\n",
      "\u001b[1m1/4\u001b[0m \u001b[32m━━━━━\u001b[0m\u001b[37m━━━━━━━━━━━━━━━\u001b[0m \u001b[1m0s\u001b[0m 64ms/step - accuracy: 0.8750 - loss: 0.3266\n",
      "Epoch 93: val_loss improved from 0.33371 to 0.33268, saving model to model/keypoint_classifier/keypoint_classifier.keras\n",
      "\u001b[1m4/4\u001b[0m \u001b[32m━━━━━━━━━━━━━━━━━━━━\u001b[0m\u001b[37m\u001b[0m \u001b[1m0s\u001b[0m 75ms/step - accuracy: 0.8829 - loss: 0.3086 - val_accuracy: 0.8919 - val_loss: 0.3327\n",
      "Epoch 94/1000\n",
      "\u001b[1m1/4\u001b[0m \u001b[32m━━━━━\u001b[0m\u001b[37m━━━━━━━━━━━━━━━\u001b[0m \u001b[1m0s\u001b[0m 64ms/step - accuracy: 0.8594 - loss: 0.3208\n",
      "Epoch 94: val_loss improved from 0.33268 to 0.33204, saving model to model/keypoint_classifier/keypoint_classifier.keras\n",
      "\u001b[1m4/4\u001b[0m \u001b[32m━━━━━━━━━━━━━━━━━━━━\u001b[0m\u001b[37m\u001b[0m \u001b[1m0s\u001b[0m 64ms/step - accuracy: 0.8829 - loss: 0.2951 - val_accuracy: 0.8919 - val_loss: 0.3320\n",
      "Epoch 95/1000\n",
      "\u001b[1m1/4\u001b[0m \u001b[32m━━━━━\u001b[0m\u001b[37m━━━━━━━━━━━━━━━\u001b[0m \u001b[1m0s\u001b[0m 168ms/step - accuracy: 0.8984 - loss: 0.2785\n",
      "Epoch 95: val_loss improved from 0.33204 to 0.33174, saving model to model/keypoint_classifier/keypoint_classifier.keras\n",
      "\u001b[1m4/4\u001b[0m \u001b[32m━━━━━━━━━━━━━━━━━━━━\u001b[0m\u001b[37m\u001b[0m \u001b[1m0s\u001b[0m 74ms/step - accuracy: 0.8829 - loss: 0.2922 - val_accuracy: 0.8919 - val_loss: 0.3317\n",
      "Epoch 96/1000\n",
      "\u001b[1m1/4\u001b[0m \u001b[32m━━━━━\u001b[0m\u001b[37m━━━━━━━━━━━━━━━\u001b[0m \u001b[1m0s\u001b[0m 75ms/step - accuracy: 0.8750 - loss: 0.2982\n",
      "Epoch 96: val_loss improved from 0.33174 to 0.33043, saving model to model/keypoint_classifier/keypoint_classifier.keras\n",
      "\u001b[1m4/4\u001b[0m \u001b[32m━━━━━━━━━━━━━━━━━━━━\u001b[0m\u001b[37m\u001b[0m \u001b[1m0s\u001b[0m 71ms/step - accuracy: 0.8829 - loss: 0.2968 - val_accuracy: 0.8919 - val_loss: 0.3304\n",
      "Epoch 97/1000\n",
      "\u001b[1m1/4\u001b[0m \u001b[32m━━━━━\u001b[0m\u001b[37m━━━━━━━━━━━━━━━\u001b[0m \u001b[1m0s\u001b[0m 114ms/step - accuracy: 0.9062 - loss: 0.2773\n",
      "Epoch 97: val_loss improved from 0.33043 to 0.32934, saving model to model/keypoint_classifier/keypoint_classifier.keras\n",
      "\u001b[1m4/4\u001b[0m \u001b[32m━━━━━━━━━━━━━━━━━━━━\u001b[0m\u001b[37m\u001b[0m \u001b[1m0s\u001b[0m 78ms/step - accuracy: 0.8829 - loss: 0.3006 - val_accuracy: 0.8919 - val_loss: 0.3293\n",
      "Epoch 98/1000\n",
      "\u001b[1m1/4\u001b[0m \u001b[32m━━━━━\u001b[0m\u001b[37m━━━━━━━━━━━━━━━\u001b[0m \u001b[1m0s\u001b[0m 113ms/step - accuracy: 0.8828 - loss: 0.2864\n",
      "Epoch 98: val_loss improved from 0.32934 to 0.32814, saving model to model/keypoint_classifier/keypoint_classifier.keras\n",
      "\u001b[1m4/4\u001b[0m \u001b[32m━━━━━━━━━━━━━━━━━━━━\u001b[0m\u001b[37m\u001b[0m \u001b[1m0s\u001b[0m 78ms/step - accuracy: 0.8829 - loss: 0.3026 - val_accuracy: 0.8919 - val_loss: 0.3281\n",
      "Epoch 99/1000\n",
      "\u001b[1m1/4\u001b[0m \u001b[32m━━━━━\u001b[0m\u001b[37m━━━━━━━━━━━━━━━\u001b[0m \u001b[1m0s\u001b[0m 47ms/step - accuracy: 0.8672 - loss: 0.3143\n",
      "Epoch 99: val_loss improved from 0.32814 to 0.32699, saving model to model/keypoint_classifier/keypoint_classifier.keras\n",
      "\u001b[1m4/4\u001b[0m \u001b[32m━━━━━━━━━━━━━━━━━━━━\u001b[0m\u001b[37m\u001b[0m \u001b[1m0s\u001b[0m 69ms/step - accuracy: 0.8829 - loss: 0.2981 - val_accuracy: 0.8919 - val_loss: 0.3270\n",
      "Epoch 100/1000\n",
      "\u001b[1m1/4\u001b[0m \u001b[32m━━━━━\u001b[0m\u001b[37m━━━━━━━━━━━━━━━\u001b[0m \u001b[1m0s\u001b[0m 124ms/step - accuracy: 0.8984 - loss: 0.2518\n",
      "Epoch 100: val_loss improved from 0.32699 to 0.32577, saving model to model/keypoint_classifier/keypoint_classifier.keras\n",
      "\u001b[1m4/4\u001b[0m \u001b[32m━━━━━━━━━━━━━━━━━━━━\u001b[0m\u001b[37m\u001b[0m \u001b[1m0s\u001b[0m 71ms/step - accuracy: 0.8829 - loss: 0.3009 - val_accuracy: 0.8919 - val_loss: 0.3258\n",
      "Epoch 101/1000\n",
      "\u001b[1m1/4\u001b[0m \u001b[32m━━━━━\u001b[0m\u001b[37m━━━━━━━━━━━━━━━\u001b[0m \u001b[1m0s\u001b[0m 64ms/step - accuracy: 0.9141 - loss: 0.2422\n",
      "Epoch 101: val_loss improved from 0.32577 to 0.32535, saving model to model/keypoint_classifier/keypoint_classifier.keras\n",
      "\u001b[1m4/4\u001b[0m \u001b[32m━━━━━━━━━━━━━━━━━━━━\u001b[0m\u001b[37m\u001b[0m \u001b[1m0s\u001b[0m 69ms/step - accuracy: 0.8829 - loss: 0.3076 - val_accuracy: 0.8919 - val_loss: 0.3253\n",
      "Epoch 102/1000\n",
      "\u001b[1m1/4\u001b[0m \u001b[32m━━━━━\u001b[0m\u001b[37m━━━━━━━━━━━━━━━\u001b[0m \u001b[1m0s\u001b[0m 135ms/step - accuracy: 0.8828 - loss: 0.3214\n",
      "Epoch 102: val_loss improved from 0.32535 to 0.32411, saving model to model/keypoint_classifier/keypoint_classifier.keras\n",
      "\u001b[1m4/4\u001b[0m \u001b[32m━━━━━━━━━━━━━━━━━━━━\u001b[0m\u001b[37m\u001b[0m \u001b[1m0s\u001b[0m 74ms/step - accuracy: 0.8829 - loss: 0.3003 - val_accuracy: 0.8919 - val_loss: 0.3241\n",
      "Epoch 103/1000\n",
      "\u001b[1m1/4\u001b[0m \u001b[32m━━━━━\u001b[0m\u001b[37m━━━━━━━━━━━━━━━\u001b[0m \u001b[1m0s\u001b[0m 64ms/step - accuracy: 0.8984 - loss: 0.2853\n",
      "Epoch 103: val_loss did not improve from 0.32411\n",
      "\u001b[1m4/4\u001b[0m \u001b[32m━━━━━━━━━━━━━━━━━━━━\u001b[0m\u001b[37m\u001b[0m \u001b[1m0s\u001b[0m 64ms/step - accuracy: 0.8829 - loss: 0.2958 - val_accuracy: 0.8919 - val_loss: 0.3244\n",
      "Epoch 104/1000\n",
      "\u001b[1m1/4\u001b[0m \u001b[32m━━━━━\u001b[0m\u001b[37m━━━━━━━━━━━━━━━\u001b[0m \u001b[1m0s\u001b[0m 141ms/step - accuracy: 0.8984 - loss: 0.2804\n",
      "Epoch 104: val_loss did not improve from 0.32411\n",
      "\u001b[1m4/4\u001b[0m \u001b[32m━━━━━━━━━━━━━━━━━━━━\u001b[0m\u001b[37m\u001b[0m \u001b[1m0s\u001b[0m 61ms/step - accuracy: 0.8829 - loss: 0.2902 - val_accuracy: 0.8919 - val_loss: 0.3253\n",
      "Epoch 105/1000\n",
      "\u001b[1m1/4\u001b[0m \u001b[32m━━━━━\u001b[0m\u001b[37m━━━━━━━━━━━━━━━\u001b[0m \u001b[1m0s\u001b[0m 53ms/step - accuracy: 0.8984 - loss: 0.2718\n",
      "Epoch 105: val_loss did not improve from 0.32411\n",
      "\u001b[1m4/4\u001b[0m \u001b[32m━━━━━━━━━━━━━━━━━━━━\u001b[0m\u001b[37m\u001b[0m \u001b[1m0s\u001b[0m 44ms/step - accuracy: 0.8829 - loss: 0.2991 - val_accuracy: 0.8919 - val_loss: 0.3258\n",
      "Epoch 106/1000\n",
      "\u001b[1m1/4\u001b[0m \u001b[32m━━━━━\u001b[0m\u001b[37m━━━━━━━━━━━━━━━\u001b[0m \u001b[1m0s\u001b[0m 178ms/step - accuracy: 0.8828 - loss: 0.3001\n",
      "Epoch 106: val_loss did not improve from 0.32411\n",
      "\u001b[1m4/4\u001b[0m \u001b[32m━━━━━━━━━━━━━━━━━━━━\u001b[0m\u001b[37m\u001b[0m \u001b[1m0s\u001b[0m 59ms/step - accuracy: 0.8829 - loss: 0.3038 - val_accuracy: 0.8919 - val_loss: 0.3259\n",
      "Epoch 107/1000\n",
      "\u001b[1m1/4\u001b[0m \u001b[32m━━━━━\u001b[0m\u001b[37m━━━━━━━━━━━━━━━\u001b[0m \u001b[1m0s\u001b[0m 136ms/step - accuracy: 0.8672 - loss: 0.3456\n",
      "Epoch 107: val_loss did not improve from 0.32411\n",
      "\u001b[1m4/4\u001b[0m \u001b[32m━━━━━━━━━━━━━━━━━━━━\u001b[0m\u001b[37m\u001b[0m \u001b[1m0s\u001b[0m 54ms/step - accuracy: 0.8829 - loss: 0.2842 - val_accuracy: 0.8919 - val_loss: 0.3266\n",
      "Epoch 108/1000\n",
      "\u001b[1m1/4\u001b[0m \u001b[32m━━━━━\u001b[0m\u001b[37m━━━━━━━━━━━━━━━\u001b[0m \u001b[1m0s\u001b[0m 151ms/step - accuracy: 0.8672 - loss: 0.3320\n",
      "Epoch 108: val_loss did not improve from 0.32411\n",
      "\u001b[1m4/4\u001b[0m \u001b[32m━━━━━━━━━━━━━━━━━━━━\u001b[0m\u001b[37m\u001b[0m \u001b[1m0s\u001b[0m 54ms/step - accuracy: 0.8829 - loss: 0.2929 - val_accuracy: 0.8919 - val_loss: 0.3281\n",
      "Epoch 109/1000\n",
      "\u001b[1m1/4\u001b[0m \u001b[32m━━━━━\u001b[0m\u001b[37m━━━━━━━━━━━━━━━\u001b[0m \u001b[1m0s\u001b[0m 60ms/step - accuracy: 0.8750 - loss: 0.3218\n",
      "Epoch 109: val_loss did not improve from 0.32411\n",
      "\u001b[1m4/4\u001b[0m \u001b[32m━━━━━━━━━━━━━━━━━━━━\u001b[0m\u001b[37m\u001b[0m \u001b[1m0s\u001b[0m 54ms/step - accuracy: 0.8829 - loss: 0.2887 - val_accuracy: 0.8919 - val_loss: 0.3286\n",
      "Epoch 110/1000\n",
      "\u001b[1m1/4\u001b[0m \u001b[32m━━━━━\u001b[0m\u001b[37m━━━━━━━━━━━━━━━\u001b[0m \u001b[1m0s\u001b[0m 151ms/step - accuracy: 0.8516 - loss: 0.4059\n",
      "Epoch 110: val_loss did not improve from 0.32411\n",
      "\u001b[1m4/4\u001b[0m \u001b[32m━━━━━━━━━━━━━━━━━━━━\u001b[0m\u001b[37m\u001b[0m \u001b[1m0s\u001b[0m 57ms/step - accuracy: 0.8829 - loss: 0.2904 - val_accuracy: 0.8919 - val_loss: 0.3293\n",
      "Epoch 111/1000\n",
      "\u001b[1m1/4\u001b[0m \u001b[32m━━━━━\u001b[0m\u001b[37m━━━━━━━━━━━━━━━\u001b[0m \u001b[1m0s\u001b[0m 159ms/step - accuracy: 0.8594 - loss: 0.3359\n",
      "Epoch 111: val_loss did not improve from 0.32411\n",
      "\u001b[1m4/4\u001b[0m \u001b[32m━━━━━━━━━━━━━━━━━━━━\u001b[0m\u001b[37m\u001b[0m \u001b[1m0s\u001b[0m 60ms/step - accuracy: 0.8829 - loss: 0.2983 - val_accuracy: 0.8919 - val_loss: 0.3297\n",
      "Epoch 112/1000\n",
      "\u001b[1m1/4\u001b[0m \u001b[32m━━━━━\u001b[0m\u001b[37m━━━━━━━━━━━━━━━\u001b[0m \u001b[1m0s\u001b[0m 146ms/step - accuracy: 0.8984 - loss: 0.2619\n",
      "Epoch 112: val_loss did not improve from 0.32411\n",
      "\u001b[1m4/4\u001b[0m \u001b[32m━━━━━━━━━━━━━━━━━━━━\u001b[0m\u001b[37m\u001b[0m \u001b[1m0s\u001b[0m 50ms/step - accuracy: 0.8829 - loss: 0.2859 - val_accuracy: 0.8919 - val_loss: 0.3294\n",
      "Epoch 113/1000\n",
      "\u001b[1m1/4\u001b[0m \u001b[32m━━━━━\u001b[0m\u001b[37m━━━━━━━━━━━━━━━\u001b[0m \u001b[1m0s\u001b[0m 151ms/step - accuracy: 0.8828 - loss: 0.2596\n",
      "Epoch 113: val_loss did not improve from 0.32411\n",
      "\u001b[1m4/4\u001b[0m \u001b[32m━━━━━━━━━━━━━━━━━━━━\u001b[0m\u001b[37m\u001b[0m \u001b[1m0s\u001b[0m 48ms/step - accuracy: 0.8829 - loss: 0.2754 - val_accuracy: 0.8919 - val_loss: 0.3290\n",
      "Epoch 114/1000\n",
      "\u001b[1m1/4\u001b[0m \u001b[32m━━━━━\u001b[0m\u001b[37m━━━━━━━━━━━━━━━\u001b[0m \u001b[1m0s\u001b[0m 47ms/step - accuracy: 0.9062 - loss: 0.2505\n",
      "Epoch 114: val_loss did not improve from 0.32411\n",
      "\u001b[1m4/4\u001b[0m \u001b[32m━━━━━━━━━━━━━━━━━━━━\u001b[0m\u001b[37m\u001b[0m \u001b[1m0s\u001b[0m 53ms/step - accuracy: 0.8829 - loss: 0.2978 - val_accuracy: 0.8919 - val_loss: 0.3278\n",
      "Epoch 115/1000\n",
      "\u001b[1m1/4\u001b[0m \u001b[32m━━━━━\u001b[0m\u001b[37m━━━━━━━━━━━━━━━\u001b[0m \u001b[1m0s\u001b[0m 159ms/step - accuracy: 0.8906 - loss: 0.2643\n",
      "Epoch 115: val_loss did not improve from 0.32411\n",
      "\u001b[1m4/4\u001b[0m \u001b[32m━━━━━━━━━━━━━━━━━━━━\u001b[0m\u001b[37m\u001b[0m \u001b[1m0s\u001b[0m 46ms/step - accuracy: 0.8829 - loss: 0.2802 - val_accuracy: 0.8919 - val_loss: 0.3272\n",
      "Epoch 116/1000\n",
      "\u001b[1m1/4\u001b[0m \u001b[32m━━━━━\u001b[0m\u001b[37m━━━━━━━━━━━━━━━\u001b[0m \u001b[1m0s\u001b[0m 180ms/step - accuracy: 0.8750 - loss: 0.2707\n",
      "Epoch 116: val_loss did not improve from 0.32411\n",
      "\u001b[1m4/4\u001b[0m \u001b[32m━━━━━━━━━━━━━━━━━━━━\u001b[0m\u001b[37m\u001b[0m \u001b[1m0s\u001b[0m 52ms/step - accuracy: 0.8829 - loss: 0.2765 - val_accuracy: 0.8919 - val_loss: 0.3270\n",
      "Epoch 117/1000\n",
      "\u001b[1m1/4\u001b[0m \u001b[32m━━━━━\u001b[0m\u001b[37m━━━━━━━━━━━━━━━\u001b[0m \u001b[1m0s\u001b[0m 176ms/step - accuracy: 0.8594 - loss: 0.3034\n",
      "Epoch 117: val_loss did not improve from 0.32411\n",
      "\u001b[1m4/4\u001b[0m \u001b[32m━━━━━━━━━━━━━━━━━━━━\u001b[0m\u001b[37m\u001b[0m \u001b[1m0s\u001b[0m 56ms/step - accuracy: 0.8829 - loss: 0.2788 - val_accuracy: 0.8919 - val_loss: 0.3267\n",
      "Epoch 118/1000\n",
      "\u001b[1m1/4\u001b[0m \u001b[32m━━━━━\u001b[0m\u001b[37m━━━━━━━━━━━━━━━\u001b[0m \u001b[1m0s\u001b[0m 165ms/step - accuracy: 0.8672 - loss: 0.3245\n",
      "Epoch 118: val_loss did not improve from 0.32411\n",
      "\u001b[1m4/4\u001b[0m \u001b[32m━━━━━━━━━━━━━━━━━━━━\u001b[0m\u001b[37m\u001b[0m \u001b[1m0s\u001b[0m 64ms/step - accuracy: 0.8829 - loss: 0.2904 - val_accuracy: 0.8919 - val_loss: 0.3267\n",
      "Epoch 119/1000\n",
      "\u001b[1m1/4\u001b[0m \u001b[32m━━━━━\u001b[0m\u001b[37m━━━━━━━━━━━━━━━\u001b[0m \u001b[1m0s\u001b[0m 137ms/step - accuracy: 0.8359 - loss: 0.3789\n",
      "Epoch 119: val_loss did not improve from 0.32411\n",
      "\u001b[1m4/4\u001b[0m \u001b[32m━━━━━━━━━━━━━━━━━━━━\u001b[0m\u001b[37m\u001b[0m \u001b[1m0s\u001b[0m 58ms/step - accuracy: 0.8829 - loss: 0.2876 - val_accuracy: 0.8919 - val_loss: 0.3267\n",
      "Epoch 120/1000\n",
      "\u001b[1m1/4\u001b[0m \u001b[32m━━━━━\u001b[0m\u001b[37m━━━━━━━━━━━━━━━\u001b[0m \u001b[1m0s\u001b[0m 163ms/step - accuracy: 0.9141 - loss: 0.2215\n",
      "Epoch 120: val_loss did not improve from 0.32411\n",
      "\u001b[1m4/4\u001b[0m \u001b[32m━━━━━━━━━━━━━━━━━━━━\u001b[0m\u001b[37m\u001b[0m \u001b[1m0s\u001b[0m 57ms/step - accuracy: 0.8829 - loss: 0.2749 - val_accuracy: 0.8919 - val_loss: 0.3270\n",
      "Epoch 121/1000\n",
      "\u001b[1m1/4\u001b[0m \u001b[32m━━━━━\u001b[0m\u001b[37m━━━━━━━━━━━━━━━\u001b[0m \u001b[1m0s\u001b[0m 80ms/step - accuracy: 0.8750 - loss: 0.3009\n",
      "Epoch 121: val_loss did not improve from 0.32411\n",
      "\u001b[1m4/4\u001b[0m \u001b[32m━━━━━━━━━━━━━━━━━━━━\u001b[0m\u001b[37m\u001b[0m \u001b[1m0s\u001b[0m 58ms/step - accuracy: 0.8829 - loss: 0.2880 - val_accuracy: 0.8919 - val_loss: 0.3266\n",
      "Epoch 122/1000\n",
      "\u001b[1m1/4\u001b[0m \u001b[32m━━━━━\u001b[0m\u001b[37m━━━━━━━━━━━━━━━\u001b[0m \u001b[1m0s\u001b[0m 132ms/step - accuracy: 0.8359 - loss: 0.3515\n",
      "Epoch 122: val_loss did not improve from 0.32411\n",
      "\u001b[1m4/4\u001b[0m \u001b[32m━━━━━━━━━━━━━━━━━━━━\u001b[0m\u001b[37m\u001b[0m \u001b[1m0s\u001b[0m 58ms/step - accuracy: 0.8829 - loss: 0.2754 - val_accuracy: 0.8919 - val_loss: 0.3261\n",
      "Epoch 122: early stopping\n"
     ]
    },
    {
     "data": {
      "text/plain": [
       "<keras.src.callbacks.history.History at 0x2125b460090>"
      ]
     },
     "execution_count": 109,
     "metadata": {},
     "output_type": "execute_result"
    }
   ],
   "source": [
    "model.fit(\n",
    "    X_train,\n",
    "    y_train,\n",
    "    epochs=1000,\n",
    "    batch_size=128,\n",
    "    validation_data=(X_test, y_test),\n",
    "    # callbacks=[cp_callback, es_callback]\n",
    "    callbacks=[cp_callback, es_callback] \n",
    ")"
   ]
  },
  {
   "cell_type": "code",
   "execution_count": 110,
   "metadata": {},
   "outputs": [
    {
     "name": "stdout",
     "output_type": "stream",
     "text": [
      "\u001b[1m2/2\u001b[0m \u001b[32m━━━━━━━━━━━━━━━━━━━━\u001b[0m\u001b[37m\u001b[0m \u001b[1m0s\u001b[0m 48ms/step - accuracy: 0.8919 - loss: 0.3261\n"
     ]
    }
   ],
   "source": [
    "# モデル評価\n",
    "val_loss, val_acc = model.evaluate(X_test, y_test, batch_size=128)"
   ]
  },
  {
   "cell_type": "code",
   "execution_count": 111,
   "metadata": {},
   "outputs": [],
   "source": [
    "# 保存したモデルのロード\n",
    "model = tf.keras.models.load_model(model_save_path)\n",
    "model.compile(\n",
    "    optimizer='adam',\n",
    "    loss='sparse_categorical_crossentropy',\n",
    "    metrics=['accuracy']\n",
    ")"
   ]
  },
  {
   "cell_type": "code",
   "execution_count": 112,
   "metadata": {},
   "outputs": [
    {
     "name": "stdout",
     "output_type": "stream",
     "text": [
      "\u001b[1m1/1\u001b[0m \u001b[32m━━━━━━━━━━━━━━━━━━━━\u001b[0m\u001b[37m\u001b[0m \u001b[1m0s\u001b[0m 98ms/step\n",
      "[9.4784606e-05 2.2048940e-05 3.4533918e-04 9.8314351e-01 5.0036793e-05\n",
      " 1.6344327e-02]\n",
      "3\n"
     ]
    }
   ],
   "source": [
    "# 推論テスト\n",
    "predict_result = model.predict(np.array([X_test[0]]))\n",
    "print(np.squeeze(predict_result))\n",
    "print(np.argmax(np.squeeze(predict_result)))"
   ]
  },
  {
   "cell_type": "markdown",
   "metadata": {},
   "source": [
    "# 混同行列"
   ]
  },
  {
   "cell_type": "code",
   "execution_count": 113,
   "metadata": {},
   "outputs": [
    {
     "name": "stdout",
     "output_type": "stream",
     "text": [
      "\u001b[1m5/5\u001b[0m \u001b[32m━━━━━━━━━━━━━━━━━━━━\u001b[0m\u001b[37m\u001b[0m \u001b[1m0s\u001b[0m 17ms/step\n"
     ]
    },
    {
     "data": {
      "image/png": "[encoded data removed]",
      "text/plain": [
       "<Figure size 700x600 with 2 Axes>"
      ]
     },
     "metadata": {},
     "output_type": "display_data"
    },
    {
     "name": "stdout",
     "output_type": "stream",
     "text": [
      "Classification Report\n",
      "              precision    recall  f1-score   support\n",
      "\n",
      "           0       0.00      0.00      0.00         4\n",
      "           1       0.00      0.00      0.00         3\n",
      "           2       0.00      0.00      0.00         1\n",
      "           3       0.89      1.00      0.94       132\n",
      "           5       0.00      0.00      0.00         8\n",
      "\n",
      "    accuracy                           0.89       148\n",
      "   macro avg       0.18      0.20      0.19       148\n",
      "weighted avg       0.80      0.89      0.84       148\n",
      "\n"
     ]
    }
   ],
   "source": [
    "import pandas as pd\n",
    "import seaborn as sns\n",
    "import matplotlib.pyplot as plt\n",
    "# from sklearn.metrics import confusion_matrix, classification_report\n",
    "from sklearn.metrics import classification_report\n",
    "\n",
    "def print_confusion_matrix(y_true, y_pred, report=True):\n",
    "    labels = sorted(list(set(y_true)))\n",
    "    cmx_data = confusion_matrix(y_true, y_pred, labels=labels)\n",
    "    \n",
    "    df_cmx = pd.DataFrame(cmx_data, index=labels, columns=labels)\n",
    " \n",
    "    fig, ax = plt.subplots(figsize=(7, 6))\n",
    "    sns.heatmap(df_cmx, annot=True, fmt='g' ,square=False)\n",
    "    ax.set_ylim(len(set(y_true)), 0)\n",
    "    plt.show()\n",
    "    \n",
    "    if report:\n",
    "        print('Classification Report')\n",
    "        # print(classification_report(y_test, y_pred))\n",
    "        print(classification_report(y_true, y_pred, zero_division=0))\n",
    "\n",
    "Y_pred = model.predict(X_test)\n",
    "y_pred = np.argmax(Y_pred, axis=1)\n",
    "\n",
    "print_confusion_matrix(y_test, y_pred)"
   ]
  },
  {
   "cell_type": "markdown",
   "metadata": {},
   "source": [
    "# Tensorflow-Lite用のモデルへ変換"
   ]
  },
  {
   "cell_type": "code",
   "execution_count": 114,
   "metadata": {},
   "outputs": [],
   "source": [
    "# 推論専用のモデルとして保存\n",
    "model_save_path = 'model/keypoint_classifier/keypoint_classifier.keras' \n",
    "model.save(model_save_path, include_optimizer=False)"
   ]
  },
  {
   "cell_type": "code",
   "execution_count": 115,
   "metadata": {},
   "outputs": [
    {
     "name": "stdout",
     "output_type": "stream",
     "text": [
      "INFO:tensorflow:Assets written to: C:\\Users\\MITCHL~1\\AppData\\Local\\Temp\\tmpv2mhn6p2\\assets\n"
     ]
    },
    {
     "name": "stderr",
     "output_type": "stream",
     "text": [
      "INFO:tensorflow:Assets written to: C:\\Users\\MITCHL~1\\AppData\\Local\\Temp\\tmpv2mhn6p2\\assets\n"
     ]
    },
    {
     "name": "stdout",
     "output_type": "stream",
     "text": [
      "Saved artifact at 'C:\\Users\\MITCHL~1\\AppData\\Local\\Temp\\tmpv2mhn6p2'. The following endpoints are available:\n",
      "\n",
      "* Endpoint 'serve'\n",
      "  args_0 (POSITIONAL_ONLY): TensorSpec(shape=(None, 42), dtype=tf.float32, name='input_layer_5')\n",
      "Output Type:\n",
      "  TensorSpec(shape=(None, 6), dtype=tf.float32, name=None)\n",
      "Captures:\n",
      "  2277862288720: TensorSpec(shape=(), dtype=tf.resource, name=None)\n",
      "  2277862286224: TensorSpec(shape=(), dtype=tf.resource, name=None)\n",
      "  2277862284688: TensorSpec(shape=(), dtype=tf.resource, name=None)\n",
      "  2277862282000: TensorSpec(shape=(), dtype=tf.resource, name=None)\n",
      "  2277862288144: TensorSpec(shape=(), dtype=tf.resource, name=None)\n",
      "  2277862288528: TensorSpec(shape=(), dtype=tf.resource, name=None)\n"
     ]
    }
   ],
   "source": [
    "# Model conversion (quantization)\n",
    "tflite_save_path = \"model/keypoint_classifier/keypoint_classifier.tflite\"\n",
    "\n",
    "converter = tf.lite.TFLiteConverter.from_keras_model(model)\n",
    "converter.optimizations = [tf.lite.Optimize.DEFAULT]\n",
    "tflite_quantized_model = converter.convert()\n",
    "\n",
    "# Correct file writing - FIXED 'ub' to 'wb'\n",
    "with open(tflite_save_path, 'wb') as f:\n",
    "    f.write(tflite_quantized_model)"
   ]
  },
  {
   "cell_type": "markdown",
   "metadata": {},
   "source": [
    "# 推論テスト"
   ]
  },
  {
   "cell_type": "code",
   "execution_count": 116,
   "metadata": {},
   "outputs": [],
   "source": [
    "# interpreter = tf.lite.Interpreter(model_path=tflite_save_path)\n",
    "# interpreter.allocate_tensors()\n",
    "\n",
    "try:\n",
    "    from tflite_runtime.interpreter import Interpreter\n",
    "    interpreter = Interpreter(model_path=tflite_save_path)\n",
    "except ImportError:\n",
    "    import warnings\n",
    "    warnings.filterwarnings('ignore', category=UserWarning)\n",
    "    interpreter = tf.lite.Interpreter(model_path=tflite_save_path)\n",
    "\n",
    "interpreter.allocate_tensors()"
   ]
  },
  {
   "cell_type": "code",
   "execution_count": 117,
   "metadata": {},
   "outputs": [],
   "source": [
    "# 入出力テンソルを取得\n",
    "input_details = interpreter.get_input_details()\n",
    "output_details = interpreter.get_output_details()"
   ]
  },
  {
   "cell_type": "code",
   "execution_count": 118,
   "metadata": {},
   "outputs": [],
   "source": [
    "interpreter.set_tensor(input_details[0]['index'], np.array([X_test[0]]))"
   ]
  },
  {
   "cell_type": "code",
   "execution_count": 119,
   "metadata": {
    "scrolled": true
   },
   "outputs": [
    {
     "name": "stdout",
     "output_type": "stream",
     "text": [
      "CPU times: total: 0 ns\n",
      "Wall time: 0 ns\n"
     ]
    }
   ],
   "source": [
    "%%time\n",
    "# 推論実施\n",
    "interpreter.invoke()\n",
    "tflite_results = interpreter.get_tensor(output_details[0]['index'])"
   ]
  },
  {
   "cell_type": "code",
   "execution_count": 120,
   "metadata": {},
   "outputs": [
    {
     "name": "stdout",
     "output_type": "stream",
     "text": [
      "[9.4784598e-05 2.2048938e-05 3.4533904e-04 9.8314351e-01 5.0036793e-05\n",
      " 1.6344335e-02]\n",
      "3\n"
     ]
    }
   ],
   "source": [
    "print(np.squeeze(tflite_results))\n",
    "print(np.argmax(np.squeeze(tflite_results)))"
   ]
  },
  {
   "cell_type": "code",
   "execution_count": null,
   "metadata": {},
   "outputs": [],
   "source": []
  },
  {
   "cell_type": "code",
   "execution_count": null,
   "metadata": {},
   "outputs": [],
   "source": []
  },
  {
   "cell_type": "code",
   "execution_count": null,
   "metadata": {},
   "outputs": [],
   "source": []
  },
  {
   "cell_type": "code",
   "execution_count": null,
   "metadata": {},
   "outputs": [],
   "source": []
  },
  {
   "cell_type": "code",
   "execution_count": null,
   "metadata": {},
   "outputs": [],
   "source": []
  },
  {
   "cell_type": "code",
   "execution_count": null,
   "metadata": {},
   "outputs": [],
   "source": []
  },
  {
   "cell_type": "code",
   "execution_count": null,
   "metadata": {},
   "outputs": [],
   "source": []
  },
  {
   "cell_type": "code",
   "execution_count": null,
   "metadata": {},
   "outputs": [],
   "source": []
  },
  {
   "cell_type": "code",
   "execution_count": null,
   "metadata": {},
   "outputs": [],
   "source": []
  },
  {
   "cell_type": "code",
   "execution_count": null,
   "metadata": {},
   "outputs": [],
   "source": []
  },
  {
   "cell_type": "code",
   "execution_count": null,
   "metadata": {},
   "outputs": [],
   "source": []
  },
  {
   "cell_type": "code",
   "execution_count": null,
   "metadata": {},
   "outputs": [],
   "source": []
  },
  {
   "cell_type": "code",
   "execution_count": null,
   "metadata": {},
   "outputs": [],
   "source": []
  },
  {
   "cell_type": "code",
   "execution_count": null,
   "metadata": {},
   "outputs": [],
   "source": []
  },
  {
   "cell_type": "code",
   "execution_count": null,
   "metadata": {},
   "outputs": [],
   "source": []
  },
  {
   "cell_type": "code",
   "execution_count": null,
   "metadata": {},
   "outputs": [],
   "source": []
  },
  {
   "cell_type": "code",
   "execution_count": null,
   "metadata": {},
   "outputs": [],
   "source": []
  },
  {
   "cell_type": "code",
   "execution_count": null,
   "metadata": {},
   "outputs": [],
   "source": []
  },
  {
   "cell_type": "code",
   "execution_count": null,
   "metadata": {},
   "outputs": [],
   "source": []
  },
  {
   "cell_type": "code",
   "execution_count": null,
   "metadata": {},
   "outputs": [],
   "source": []
  }
 ],
 "metadata": {
  "kernelspec": {
   "display_name": "Python 3 (ipykernel)",
   "language": "python",
   "name": "python3"
  },
  "language_info": {
   "codemirror_mode": {
    "name": "ipython",
    "version": 3
   },
   "file_extension": ".py",
   "mimetype": "text/x-python",
   "name": "python",
   "nbconvert_exporter": "python",
   "pygments_lexer": "ipython3",
   "version": "3.11.9"
  }
 },
 "nbformat": 4,
 "nbformat_minor": 4
}
